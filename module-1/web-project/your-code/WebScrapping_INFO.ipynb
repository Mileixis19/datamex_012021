{
 "cells": [
  {
   "cell_type": "code",
   "execution_count": 1,
   "metadata": {},
   "outputs": [],
   "source": [
    "import re\n",
    "import requests\n",
    "from bs4 import BeautifulSoup\n",
    "import time\n",
    "import pandas as pd"
   ]
  },
  {
   "cell_type": "code",
   "execution_count": 2,
   "metadata": {},
   "outputs": [],
   "source": [
    "url = 'https://www.nationalgeographic.es/espacio/top-10-impactos-de-asteroides-contra-la-tierra'"
   ]
  },
  {
   "cell_type": "code",
   "execution_count": 3,
   "metadata": {},
   "outputs": [],
   "source": [
    "res = requests.get(url)"
   ]
  },
  {
   "cell_type": "code",
   "execution_count": 4,
   "metadata": {},
   "outputs": [
    {
     "data": {
      "text/plain": [
       "<Response [200]>"
      ]
     },
     "execution_count": 4,
     "metadata": {},
     "output_type": "execute_result"
    }
   ],
   "source": [
    "res"
   ]
  },
  {
   "cell_type": "code",
   "execution_count": 5,
   "metadata": {},
   "outputs": [],
   "source": [
    "contenido = res.content"
   ]
  },
  {
   "cell_type": "code",
   "execution_count": 6,
   "metadata": {},
   "outputs": [
    {
     "data": {
      "text/plain": [
       "<!DOCTYPE html>\n",
       "<html dir=\"ltr\" lang=\"es\" prefix=\"content: http://purl.org/rss/1.0/modules/content/  dc: http://purl.org/dc/terms/  foaf: http://xmlns.com/foaf/0.1/  og: http://ogp.me/ns#  rdfs: http://www.w3.org/2000/01/rdf-schema#  schema: http://schema.org/  sioc: http://rdfs.org/sioc/ns#  sioct: http://rdfs.org/sioc/types#  skos: http://www.w3.org/2004/02/skos/core#  xsd: http://www.w3.org/2001/XMLSchema# \" xmlns=\"http://www.w3.org/1999/xhtml\" xmlns:fb=\"https://www.facebook.com/2008/fbml\" xmlns:og=\"http://ogp.me/ns#\"><head><script>window.googletag = window.googletag || { cmd: [] };</script><meta charset=\"utf-8\"/><link as=\"font\" crossorigin=\"anonymous\" href=\"/fonts/GeographWeb-Regular.western-subsets.woff2\" rel=\"preload\" type=\"font/woff2\"/><link as=\"font\" crossorigin=\"anonymous\" href=\"/fonts/GeographWeb-Bold.western-subsets.woff2\" rel=\"preload\" type=\"font/woff2\"/><link as=\"style\" href=\"/legacy/theme/css/styles.min.css?9b6b6ebbd0adbe34ead3b419cf96b3b9\" rel=\"preload\"/><style>@font-face{font-family:GeoEditRegular;font-display:swap;src:url(/fonts/GeographWeb-Regular.western-subsets.woff2) format('woff2'),url(/fonts/GeographWeb-Regular.western-subsets.woff) format('woff')}@font-face{font-family:GeoEditBold;font-display:swap;src:url(/fonts/GeographWeb-Bold.western-subsets.woff2) format('woff2'),url(/fonts/GeographWeb-Bold.western-subsets.woff) format('woff')}@media screen and (max-width:767px){.ngart--preview .ngart__cont{max-height:calc(35vh + 215px)}.ngart__cont{max-height:35vh;overflow:hidden}.ngart__cont:after{content:' ';position:absolute;left:0;bottom:0;width:100%;height:35vh;background:linear-gradient(to bottom,rgba(255,255,255,0) 0,#fff 100%)}}.ngart__main-col p{font-family:GeoEditRegular,sans-serif;font-weight:400}.ngart__main-col p{font-family:Georgia,Times,'Times New Roman',serif;font-size:1.1875rem;line-height:1.9375rem;letter-spacing:normal}.ngart-img__cont__author{font-family:GeoEditRegular,sans-serif;font-weight:400;font-size:.75rem;letter-spacing:3px;line-height:1.5}*,::after,::before{box-sizing:inherit}html{box-sizing:border-box;-ms-text-size-adjust:100%;-webkit-text-size-adjust:100%;-webkit-font-smoothing:auto;-moz-osx-font-smoothing:grayscale}body{margin:0;padding:0;font-size:100%;line-height:1.5;letter-spacing:.02em;font-family:sans-serif}article,main{display:block}.content-cntr{position:relative;z-index:296}body:before{content:'mobile';display:none}ul{margin:0;padding:0}li{margin:0;padding:0;list-style:none}img{height:auto;border:none;max-width:100%}a{-webkit-text-decoration-skip:objects;text-decoration:none}a:visited{outline-width:0;outline:0}p{margin:0}html{font-family:sans-serif;-ms-text-size-adjust:100%;-webkit-text-size-adjust:100%}a{background:0 0}h1{font-size:2em;margin:0}img{border:0}svg:not(:root){overflow:hidden}body::after{content:'mobile';display:none}@media screen and (min-width:768px){body:before{content:'tablet'}body::after{content:'tablet'}}.resp-img-cntr{display:block;width:100%;position:relative;height:0;overflow:hidden;background:url(data:image/svg+xml;base64,PHN2ZyB4bWxucz0iaHR0cDovL3d3dy53My5vcmcvMjAwMC9zdmciIHZpZXdCb3g9IjAgMCA4NC40MyAxMjAuOTgiPjxkZWZzPjwvZGVmcz48cGF0aCBzdHlsZT0iZmlsbDojZmMwOyIgZD0iTTAsMTIxVjBIODQuNDNWMTIxSDBaTTcyLjIyLDEwOC44VjEyLjE4SDEyLjE3VjEwOC44SDcyLjIyWiIvPjwvc3ZnPgo=) center center no-repeat rgba(179,179,179,.4);background-size:40px 58px}.resp-img-cntr :after{border:6px solid #fc0;box-sizing:border-box;content:' ';height:58px;left:50%;margin:-29px 0 0 -20px;position:absolute;top:50%;width:40px;z-index:-1}.resp-img-cntr img{display:block;width:100%;height:auto;-webkit-animation:1s fadein;animation:1s fadein}@-webkit-keyframes fadein{from{opacity:0}to{opacity:1}}@keyframes fadein{from{opacity:0}to{opacity:1}}.ng-ad-banner{background-color:#f2f2f2;padding:30px 0;border-bottom:1px solid rgba(0,0,0,.1);text-align:center;clear:both;font-size:0}.gr-wrap{max-width:68em;margin-left:auto;margin-right:auto;margin:0 30px}.gr-wrap::after{clear:both;content:'';display:table}@media screen and (min-width:768px){.gr-wrap{margin:0 40px}}@media screen and (min-width:1024px){body:before{content:'small_desktop'}.gr-wrap{max-width:none;margin:0 60px}}@media screen and (min-width:1280px){body:before{content:'large_desktop'}.gr-wrap{max-width:1600px;padding:0 60px;margin:0 auto}}.gnav-cntr{z-index:298;height:44px;position:relative}.gnav-overlays{z-index:1}.gnav{background:#000;display:inline-block;padding:0 20px;position:relative;width:100%;z-index:298}.gnav>ul{height:44px;overflow:hidden;-js-display:flex;display:flex;justify-content:space-between}.gnav__link{display:flex;align-items:center;border-style:solid;border-color:transparent;border-width:0 10px;position:relative;white-space:nowrap}.gnav__link .highlight{display:none}.gnav__link:first-child{border-left:none}.gnav__link:last-child{border-right:none}.gnav__link--explore{display:none}.gnav__link--explore:before{content:'';position:relative;border-top:5px solid #fff;border-right:4px solid transparent;border-bottom:4px solid transparent;border-left:4px solid transparent;top:1px;order:2;margin-left:10px}.gnav__link a,.gnav__link.gnav__link--explore span{font-family:GeoEditBold,sans-serif;font-weight:400;letter-spacing:3px;line-height:1.5;font-style:normal;color:#fff;font-size:.75rem;text-transform:uppercase}.gnav__link--additional_0{-js-display:flex;display:flex;margin-right:auto}.gnav__link--promoted{font-family:GeoEditRegular,sans-serif;font-weight:400;letter-spacing:.2em;display:none;-webkit-transform:translateY(100%);transform:translateY(100%);text-transform:none;white-space:normal}@media screen and (min-width:768px){.gnav{padding-left:30px}.gnav__link{-js-display:flex;display:flex;align-items:center}.gnav__link--explore:after{content:'';width:1px;display:block;position:absolute;background:#555;height:25px;margin-left:20px;order:3;top:25%;position:relative}.gnav__link--promoted{display:none}.gnav__link--additional,.gnav__link--newsletter{margin-left:0;margin-right:0}.gnav__link:nth-child(3){margin-left:auto}}@media screen and (min-width:1024px){.gnav__link--promoted{-js-display:flex;display:flex;flex-grow:1}}.gnav__link.hidden-on-mobile{display:none}.gnav__link.hidden-on-tablet{display:none}@media screen and (min-width:768px){.gnav__link.hidden-on-mobile{display:flex}.gnav__link.hidden-on-mobile.hidden-on-tablet{display:none}}@media screen and (min-width:70em){body::after{content:'desktop'}.gnav__link.hidden-on-mobile{display:flex}.gnav__link.hidden-on-tablet{display:flex}.gnav__link.hidden-on-mobile.hidden-on-tablet{display:flex}}.cnav-cntr{z-index:296;position:relative;width:100%;border-bottom:1px solid #ccc}.cnav{width:100%;min-height:70px;background-color:#fff;position:relative;-js-display:flex;display:flex}.cnav>*{-js-display:flex;display:flex;align-items:center}.cnav__logo-box{margin-left:20px;height:auto;float:left}.cnav__logo-box svg{height:46px;width:32.0022px;vertical-align:middle}.cnav__logo{width:100px;height:auto;float:left}.cnav__logo svg{height:38px;width:119px;margin-bottom:1px;margin-left:10px;vertical-align:middle}.cnav__logo.page-tit{font-family:GeoEditBold,sans-serif;font-weight:400;letter-spacing:3px;line-height:1.5;font-style:normal;width:auto;font-size:1rem;font-weight:600;text-transform:uppercase;color:#787878}.cnav__logo.page-tit a,.cnav__logo.page-tit a:visited{color:#000}.cnav__spacer{flex-grow:1}.cnav__hamburger,.cnav__search{width:70px;height:auto;text-align:center;font-size:1.5625rem;color:#000;justify-content:center}.cnav__hamburger svg{width:24px;height:24px}.cnav__links{display:none;float:left;position:relative;height:100%;margin-left:30px;text-transform:uppercase;line-height:1rem}.cnav__links li{display:inline-block;float:left;height:16px;padding:0 30px;border-left:1px solid #999}.cnav__links li:last-child{border-right:1px solid #999}.cnav__links li a{font-family:GeoEditRegular,sans-serif;font-weight:400;font-size:.875rem;letter-spacing:2.8px;color:#999}@media screen and (min-width:768px){.cnav{height:5rem}.cnav__logo-box{margin-left:30px}.cnav__logo.page-tit{font-size:1.5rem}.cnav__hamburger,.cnav__search{width:80px}.cnav__hamburger{font-size:1.875rem}.cnav__hamburger svg{width:30px;height:30px}}@media screen and (min-width:1024px){.cnav__links{-js-display:flex;display:flex}.cnav__links li:last-child{display:none}}@media screen and (min-width:1280px){.cnav__links{-js-display:flex;display:flex;margin-left:50px}.cnav__links li:last-child{display:inline-block}}.ngart:not(.node--type-photo-gallery){margin-bottom:60px}.ngart__main-col{width:100%;display:inline-block}.ngart__main-col p{margin-bottom:30px;color:#333}.ngart__cont{position:relative;width:100%}.ngart__read-more{font-family:GeoEditBold,sans-serif;font-weight:400;letter-spacing:3px;line-height:1.5;font-style:normal;text-transform:uppercase;line-height:1.875rem;text-align:center;background:#333;color:#fff;padding:7px 0;text-transform:uppercase;border-radius:0;font-size:.875rem;padding:10px 5px;margin-top:15px;display:none}.ngart__side-col{display:none}.ngart__side-inner{top:0}@media screen and (min-width:768px){.ngart__main-col{display:inline-block}.ngart__main-col .paragraph,.ngart__main-col p{margin-bottom:30px}}@media screen and (min-width:1024px){.ngart{position:relative}.ngart .gr-wrap{margin:0 90px}.ngart .ngart__group{-js-display:flex;display:flex}.ngart__main-col{width:calc(100% - 320px);padding-right:50px;float:left;flex:0 1 auto}.ngart__side-col{-js-display:flex;display:flex;width:300px;float:left;flex:0 1 auto;flex-direction:column}.ngart__ad-col{width:100%;flex:0 1 auto;margin-bottom:8px}.ngart__subs-col{width:100%;flex:1}}@media screen and (min-width:1280px){.ngart .gr-wrap{padding:0;width:100%;max-width:1160px;margin:0 auto}}@media screen and (max-width:767px){.ngart--preview .ngart__cont{max-height:calc(35vh + 215px)}.ngart__cont{max-height:35vh;overflow:hidden}.ngart__cont:after{content:' ';position:absolute;left:0;bottom:0;width:100%;height:35vh;background:linear-gradient(to bottom,rgba(255,255,255,0) 0,#fff 100%)}.ngart__read-more{display:block}}.ngart-img{background:#fff;margin-bottom:30px}.ngart-img__cntr{position:relative;font-size:0}.ngart-img__cont{font-family:GeoEditRegular,sans-serif;font-weight:400;font-size:.875rem;letter-spacing:.1px;line-height:20px;color:#333;border-left:1px solid #555;max-width:100%;position:relative}.ngart-img__cont:before{content:'';position:absolute;top:0;left:-1px;width:1px;height:8px;background:#fff;z-index:2}.ngart-img__cont:after{content:'';position:absolute;bottom:0;left:-1px;width:1px;height:4px;background:#fff;z-index:2}.ngart-img__cont__author{text-transform:uppercase}.ngart-img__cont--strong{font-weight:700}.ngart-img--medium .ngart-img__cont{margin-top:13px;padding-left:15px;padding-right:30px}.ngart-img__cont__copy{color:#555}.ngart-img--medium .ngart-img__cont__copy{padding-bottom:10px}.ngart-img__cont__author{color:#333}@media screen and (min-width:768px){.ngart-img__cont{width:100%}.ngart-img--medium .ngart-img__cont{margin-top:10px;padding-left:15px;max-width:760px}}@media screen and (min-width:1024px){.ngart-img--medium .ngart-img__cont{margin-top:20px;padding-left:40px}}@media screen and (min-width:1280px){.ngart-img--medium{max-width:760px;display:block}.ngart-img--medium .ngart-img__cont{margin:20px 0 30px;padding-left:40px}.ngart-img--medium .ngart-img__cont__copy{padding-bottom:20px}.ngart-img--medium .ngart-img__cntr img{max-width:760px}}.ngart__side-inner{top:0;position:-webkit-sticky;position:sticky}.ngart__side-ad{width:100%;overflow:hidden;top:100px;left:0;height:auto}.ngart__side-ad:after,.ngart__side-ad:before{content:'';display:table}.hidden{display:none}*{margin:0;padding:0}.ng-promo-badge{visibility:hidden;height:65px}@media screen and (min-width:1024px){.ng-promo-badge{height:125px}}.sponsor_bar{visibility:hidden;}@media screen and (min-width:768px){.cnav{height:5rem;}.cnav__logo-box{margin-left:30px;}}</style><link href=\"/legacy/theme/css/styles.min.css?9b6b6ebbd0adbe34ead3b419cf96b3b9\" id=\"preload-css\" media=\"print\" rel=\"stylesheet\"/><script>const pCss = document.getElementById('preload-css'); pCss.addEventListener('load', () => { pCss.media = 'all'; })</script><noscript><link href=\"/legacy/theme/css/styles.min.css?9b6b6ebbd0adbe34ead3b419cf96b3b9\" media=\"all\" rel=\"stylesheet\"/></noscript><link crossorigin=\"anonymous\" href=\"https://static.nationalgeographic.es\" rel=\"preconnect\"/><link crossorigin=\"anonymous\" href=\"https://www.googletagmanager.com\" rel=\"preconnect\"/><link crossorigin=\"anonymous\" href=\"https://mssl.fwmrm.net\" rel=\"preconnect\"/><meta content=\"ie=edge\" http-equiv=\"x-ua-compatible\"/><meta content=\"width=device-width, initial-scale=1, shrink-to-fit=no\" name=\"viewport\"/><link href=\"/favicon.ico\" rel=\"shortcut icon\" type=\"image/vnd.microsoft.icon\"/><link href=\"/manifest.webmanifest\" rel=\"manifest\"/><link href=\"/apple-touch-icon.png?v=7a4260241130277a670aed37636a9551\" rel=\"apple-touch-icon\" sizes=\"228x228\"/><link href=\"/apple-touch-icon-120x120.png?v=7a4260241130277a670aed37636a9551\" rel=\"apple-touch-icon\" sizes=\"120x120\"/><link href=\"/apple-touch-icon-precomposed.png?v=7a4260241130277a670aed37636a9551\" rel=\"apple-touch-icon\" sizes=\"228x228\"/><link href=\"/apple-touch-icon-120x120-precomposed.png?v=7a4260241130277a670aed37636a9551\" rel=\"apple-touch-icon\" sizes=\"120x120\"/><meta content=\"m9UsgT9JOH5f9ZsrAAvg7d-7IOoVmIIWUJi6f9U_h1c\" name=\"google-site-verification\"/><meta content=\"summary_large_image\" property=\"twitter:card\"/><meta content=\"Gatsby 2.23.3\" name=\"generator\"/><title data-react-helmet=\"true\">Top 10 impactos de asteroides contra la tierra | National Geographic</title><link data-react-helmet=\"true\" href=\"https://www.nationalgeographic.es/espacio/top-10-impactos-de-asteroides-contra-la-tierra\" rel=\"canonical\"/><link data-react-helmet=\"true\" href=\"https://www.nationalgeographic.es/espacio/top-10-impactos-de-asteroides-contra-la-tierra/amp\" rel=\"amphtml\"/><link data-react-helmet=\"true\" href=\"https://static.nationalgeographic.es/files/styles/image_3200/public/11912.600x450.jpg?w=1600\" rel=\"image_src\"/><meta content=\"Top 10 impactos de asteroides contra la tierra | National Geographic\" data-react-helmet=\"true\" name=\"title\"/><meta content=\"es\" data-react-helmet=\"true\" http-equiv=\"content-language\"/><meta content=\"2020-11-05T06:19:57Z\" data-react-helmet=\"true\" name=\"date\" scheme=\"W3CDTF\"/><meta content=\"15/02/2013\" data-react-helmet=\"true\" name=\"publicationDate\"/><meta content=\"max-image-preview:large, max-snippet:-1, max-video-preview:-1\" data-react-helmet=\"true\" name=\"robots\"/><meta content=\"15 de febrero de 2013\n",
       "\n",
       "Los impactos de cuerpos estelares en la Tierra siempre ha sido algo que ha preocupado a la población, incluidos los más...\" data-react-helmet=\"true\" name=\"description\"/><meta content=\"Space\" data-react-helmet=\"true\" name=\"englishPrimaryTerm\"/><meta content=\"437232676619533\" data-react-helmet=\"true\" property=\"fb:app_id\"/><meta content=\"article\" data-react-helmet=\"true\" property=\"og:type\"/><meta content=\"https://www.nationalgeographic.es/espacio/top-10-impactos-de-asteroides-contra-la-tierra\" data-react-helmet=\"true\" property=\"og:url\"/><meta content=\"Top 10 impactos de asteroides contra la tierra\" data-react-helmet=\"true\" property=\"og:title\"/><meta content=\"National Geographic\" data-react-helmet=\"true\" property=\"og:site_name\"/><meta content=\"2020-11-05T06:19:57Z\" data-react-helmet=\"true\" property=\"og:updated_time\"/><meta content=\"https://static.nationalgeographic.es/files/styles/image_3200/public/11912.600x450.jpg?w=1600&amp;h=1200\" data-react-helmet=\"true\" property=\"og:image\"/><meta content=\"1600\" data-react-helmet=\"true\" property=\"og:image:width\"/><meta content=\"1200\" data-react-helmet=\"true\" property=\"og:image:height\"/><meta content=\"image/jpeg\" data-react-helmet=\"true\" property=\"og:image:type\"/><meta content=\"15 de febrero de 2013\n",
       "\n",
       "Los impactos de cuerpos estelares en la Tierra siempre ha sido algo que ha preocupado a la población, incluidos los más...\" data-react-helmet=\"true\" property=\"og:description\"/><meta content=\"Top 10 impactos de asteroides contra la tierra\" data-react-helmet=\"true\" property=\"twitter:title\"/><meta content=\"@natgeoespana\" data-react-helmet=\"true\" property=\"twitter:site\"/><meta content=\"@natgeoespana\" data-react-helmet=\"true\" property=\"twitter:creator\"/><meta content=\"https://www.nationalgeographic.es/espacio/top-10-impactos-de-asteroides-contra-la-tierra\" data-react-helmet=\"true\" property=\"twitter:url\"/><meta content=\"https://static.nationalgeographic.es/files/styles/image_3200/public/11912.600x450.jpg?w=1600\" data-react-helmet=\"true\" property=\"twitter:image\"/><meta content=\"Top 10 impactos de asteroides contra la tierra\" data-react-helmet=\"true\" property=\"twitter:image:alt\"/><meta content=\"@NatGeoES\" data-react-helmet=\"true\" property=\"article:author\"/><meta content=\"2020-11-05T06:19:57Z\" data-react-helmet=\"true\" property=\"article:modified_time\"/><meta content=\"2013-02-15T15:02:07Z\" data-react-helmet=\"true\" property=\"article:published_time\"/><meta content=\"Espacio\" data-react-helmet=\"true\" property=\"article:section\"/><meta content=\"Espacio\" data-react-helmet=\"true\" property=\"article:tag\"/><meta content=\"Asteroides\" data-react-helmet=\"true\" property=\"article:tag\"/><meta content=\"Noticias\" data-react-helmet=\"true\" property=\"article:tag\"/><script data-react-helmet=\"true\" type=\"application/ld+json\">{\"@context\":\"https://schema.org\",\"@graph\":[{\"@type\":\"Article\",\"headline\":\"Top 10 impactos de asteroides contra la tierra\",\"datePublished\":\"2017-11-09T03:05:30Z\",\"dateModified\":\"2020-11-05T06:19:57Z\",\"publisher\":{\"@type\":\"Organization\",\"@id\":\"https://www.nationalgeographic.es/\",\"name\":\"National Geographic\",\"url\":\"https://www.nationalgeographic.es/\",\"logo\":{\"@type\":\"ImageObject\",\"url\":\"https://www.nationalgeographic.es/images/logo.png\"}},\"author\":{\"@type\":\"Person\",\"name\":\"Redacción National Geographic\"},\"mainEntityOfPage\":\"https://www.nationalgeographic.es/espacio/top-10-impactos-de-asteroides-contra-la-tierra\",\"image\":{\"@type\":\"ImageObject\",\"url\":\"https://static.nationalgeographic.es/files/styles/image_3200/public/11912.600x450.jpg?w=1900&h=1425\",\"width\":1900,\"height\":1425,\"author\":{\"@type\":\"Person\",\"name\":\"Detlev van Ravenswaay, Science Source\"},\"contributor\":{\"@type\":\"Person\",\"name\":\"Detlev van Ravenswaay, Science Source\"},\"caption\":\"TOP 10 CRÁTERES DE ASTEROIDES\",\"name\":\"TOP 10 CRÁTERES DE ASTEROIDES\",\"alternateName\":\"11912.600x450\"}}]}</script><link as=\"script\" href=\"/webpack-runtime-84b1416ea50c2ca17953.js\" rel=\"preload\"/><link as=\"script\" href=\"/framework-b3168a2cbdb187b9ddad.js\" rel=\"preload\"/><link as=\"script\" href=\"/app-3d279dc2dced45e4ddea.js\" rel=\"preload\"/><link as=\"script\" href=\"/commons-d3632b9733e5001bc361.js\" rel=\"preload\"/><link as=\"script\" href=\"/51e78a9d80d2a64060a1d3f667eb08fbcbf56497-78d2d3363b6fa892d46f.js\" rel=\"preload\"/><link as=\"script\" href=\"/df4265884d26b61f043754e386df1b71c2cde7ff-ad8b6a2646eb87b61384.js\" rel=\"preload\"/><link as=\"script\" href=\"/component---src-views-article-article-jsx-f9a4381b316e50c05c2d.js\" rel=\"preload\"/><link as=\"fetch\" crossorigin=\"anonymous\" href=\"/page-data/espacio/top-10-impactos-de-asteroides-contra-la-tierra/page-data.json\" rel=\"preload\"/><link as=\"fetch\" crossorigin=\"anonymous\" href=\"/page-data/app-data.json\" rel=\"preload\"/></head><body><div id=\"___gatsby\"><div id=\"gatsby-focus-wrapper\" style=\"outline:none\" tabindex=\"-1\"><div class=\"page-content\"><div class=\"content-cntr\"><div class=\"headers-container\"><div><div class=\"gnav-cntr\"><div class=\"gnav\"><ul><li class=\"gnav__link gnav__link--explore hidden-on-mobile\"><span>Descubre Nat Geo</span><div class=\"highlight\"></div></li><li class=\"gnav__link gnav__link--promoted hidden-on-mobile hidden-on-tablet\"></li><li class=\"gnav__link gnav__link--newsletter hidden-on-mobile\"><a data-layer-click-event='{\"event\":\"Click Register\",\"module\":\"Top\",\"location\":\"Articles &amp; HubPages\"}'>Registrarse</a></li><li class=\"gnav__link gnav__link--additional gnav__link--additional_0\"><a data-layer-click-event='{\"event\":\"Click-Out Tracking\",\"location\":\"Other\",\"outclick\":\"https://tienda.rbarevistas.com/suscripcion-national-geographic.html?prod=NGME&amp;code=C-00002418&amp;ORIGIN=FOX&amp;utm_content=header&amp;utm_medium=cpc&amp;utm_source=fox\"}' href=\"https://tienda.rbarevistas.com/suscripcion-national-geographic.html?prod=NGME&amp;code=C-00002418&amp;ORIGIN=FOX&amp;utm_content=header&amp;utm_medium=cpc&amp;utm_source=fox\" target=\"_blank\">REVISTA NAT GEO</a></li><li class=\"gnav__link gnav__link--additional gnav__link--additional_1 hidden-on-mobile\"><a data-layer-click-event='{\"event\":\"Click-Out Tracking\",\"location\":\"Other\",\"outclick\":\"https://www.blue-ocean-spain.es/nat-geo-kids/suscripcion/\"}' href=\"https://www.blue-ocean-spain.es/nat-geo-kids/suscripcion/\" target=\"_blank\">REVISTA NAT GEO KIDS</a></li><li class=\"gnav__link gnav__link--additional gnav__link--additional_2\"><a class=\"topbardisney\" data-layer-click-event='{\"event\":\"Click-Out Tracking\",\"location\":\"Other\",\"outclick\":\"https://disneyplus.com?cid=DTCI-Synergy-NatGeoPartners-Site-Acquisition-ESLaunch-ES-DisneyPlus-DisneyPlus-ES-NavLink-NationalGeographic.es_launch_navlink-NA\"}' href=\"https://disneyplus.com?cid=DTCI-Synergy-NatGeoPartners-Site-Acquisition-ESLaunch-ES-DisneyPlus-DisneyPlus-ES-NavLink-NationalGeographic.es_launch_navlink-NA\" target=\"_blank\">Disney+</a></li></ul></div><div class=\"gnav-overlays\"></div></div><div class=\"cnav-placeholder\"><div class=\"cnav-cntr\"><div class=\"cnav\"><div class=\"cnav__logo-box\"><a href=\"/\"><svg aria-label=\"National Geographic\" viewbox=\"0 0 84.43 120.98\" xmlns=\"http://www.w3.org/2000/svg\"><title>National Geographic</title><defs></defs><path d=\"M0,121V0H84.43V121H0ZM72.22,108.8V12.18H12.17V108.8H72.22Z\" style=\"fill:#fc0\"></path></svg></a></div><div class=\"cnav__logo page-tit\"><a href=\"/\"><svg aria-label=\"National Geographic\" viewbox=\"0 0 309.33 98.77\" xmlns=\"http://www.w3.org/2000/svg\"><title>National Geographic</title><path d=\"M37.33,42.83H32.1c-6.86-9.68-13.66-19.31-20.45-30.2H11.59v30.2H5.81V0.73H11c6.86,9.62,13.66,19.19,20.39,30h0.12v-30h5.78V42.83Z\"></path><path d=\"M51,26.17C52.73,20.64,54.41,15.52,55.92,9H56c1.68,6.5,3.19,11.62,4.75,17.15H51ZM53.81,0.73L39.26,42.83h6.26l3.67-11.49H61.87l3.31,11.49h8.06L59.83,0.73h-6Z\"></path><path d=\"M80,42.83V6.37H69V0.73H98.33V6.37H87.26V42.83H80Z\"></path><path d=\"M100.68,42.83V0.73h7.16V42.83h-7.16Z\"></path><path d=\"M130.09,37.54c-7.52,0-10.17-8.31-10.17-16.36,0-7.76,3-15.16,10.17-15.16s10.16,7.4,10.16,15.16C140.26,29.23,137.61,37.54,130.09,37.54Zm0,6c11,0,17.87-9.8,17.87-22.37C148,9.38,140.38,0,130.09,0s-17.87,9.38-17.87,21.18C112.23,33.75,119.08,43.55,130.09,43.55Z\"></path><path d=\"M183.87,42.83h-5.23c-6.86-9.68-13.66-19.31-20.45-30.2h-0.06v30.2h-5.77V0.73h5.24c6.86,9.62,13.65,19.19,20.39,30h0.12v-30h5.77V42.83Z\"></path><path d=\"M197.58,26.17C199.27,20.64,201,15.52,202.46,9h0.12c1.69,6.5,3.19,11.62,4.75,17.15h-9.75Zm2.77-25.44L185.79,42.83h6.26l3.67-11.49h12.69l3.31,11.49h8.06L206.37,0.73h-6Z\"></path><path d=\"M221.89,0.73H229V37.18H243.3v5.65H221.89V0.73Z\"></path><path d=\"M32.89,78.06V95.44a33.11,33.11,0,0,1-12,2.59C8.53,98,.71,88.41.71,76c0-11.49,7.82-21.53,20.45-21.53a18,18,0,0,1,10.23,3.25l-2.35,5a15.65,15.65,0,0,0-7.7-2.22c-7.7,0-12.94,6.08-12.94,15.64,0,10,6,15.88,12.21,15.88a10.63,10.63,0,0,0,5.05-1V78.06h7.22Z\"></path><path d=\"M58.7,60.86h-12V72.41H58.46v5.65H46.66v13.6h14.2v5.66H39.45V55.2H58.7v5.66Z\"></path><path d=\"M81,92c-7.52,0-10.17-8.3-10.17-16.36,0-7.76,3-15.16,10.17-15.16s10.17,7.4,10.17,15.16C91.12,83.72,88.47,92,81,92Zm0,6c11,0,17.87-9.8,17.87-22.37,0-11.79-7.58-21.18-17.87-21.18S63.09,63.86,63.09,75.65C63.09,88.22,69.95,98,81,98Z\"></path><path d=\"M133.47,78.06V95.44a33.11,33.11,0,0,1-12,2.59c-12.39,0-20.21-9.62-20.21-22,0-11.49,7.82-21.53,20.46-21.53A18,18,0,0,1,132,57.73l-2.35,5a15.64,15.64,0,0,0-7.7-2.22c-7.7,0-12.93,6.08-12.93,15.64,0,10,6,15.88,12.21,15.88a10.63,10.63,0,0,0,5.05-1V78.06h7.22Z\"></path><path d=\"M147.31,60.86h3.19c4.27,0,6.67,2.46,6.67,6.79,0,5.65-3.43,8.18-6.86,8.36-0.72.06-2.4,0.12-3,.19V60.86Zm18.29,36.45-8.48-17.45a14.16,14.16,0,0,0,7.28-12.51c0-8.19-5-12.16-13.05-12.16H140.09V97.31h7.22V81.43h3.25l6.8,15.88h8.24Z\"></path><path d=\"M177.5,80.65c1.68-5.53,3.37-10.65,4.87-17.14h0.12c1.69,6.49,3.19,11.61,4.76,17.14H177.5Zm2.77-25.45L165.71,97.31H172l3.67-11.49h12.69l3.31,11.49h8.06L186.29,55.2h-6Z\"></path><path d=\"M213.24,55.2H202V97.31h7.22V81.43h3.25c8.6,0,13.84-7,13.84-14.07C226.29,59.17,221.3,55.2,213.24,55.2Zm-1,20.81c-0.74.06-2.5,0.12-3,.17V60.86h3.25c4.21,0,6.62,2.46,6.62,6.79C219.07,73.31,215.64,75.83,212.22,76Z\"></path><path d=\"M259.74,97.31h-7.22V77h-15V97.31h-7.16V55.2h7.16V71.38h15V55.32h7.22v42Z\"></path><path d=\"M266.66,97.31V55.2h7.16V97.31h-7.16Z\"></path><path d=\"M306.3,62.84a15.16,15.16,0,0,0-7.4-2.34c-7.34,0-12.69,6.08-12.69,15.64,0,10,5.9,15.88,12.87,15.88a13.61,13.61,0,0,0,7.22-2.11l2,5.24A18.33,18.33,0,0,1,298.78,98c-12.39,0-20.21-9.62-20.21-22,0-11.49,7.76-21.53,20.33-21.53a17.78,17.78,0,0,1,9.69,3.25Z\"></path></svg></a></div><ul class=\"cnav__links\"><li><a href=\"/coronavirus\">Coronavirus</a></li><li><a href=\"/nationalgeographicnow\">NAT GEO NOW</a></li><li><a href=\"/programacion-television\">Programación TV</a></li></ul><div class=\"cnav__spacer\"></div><a class=\"cnav__search\" title=\"buscar\"><style data-emotion-css=\"199dulb\">.css-199dulb{height:24px;width:24px;fill:currentColor;}</style><svg aria-label=\"search\" class=\"css-199dulb\" viewbox=\"0 0 1024 1024\"><path d=\"M853.4 48h87.8l-276.8 276.8c105.4 126 99 314.4-19.2 432.6-125 125-328.6 125-453.8 0-125-125-125-328.6 0-453.8 91-91 223.4-115.8 337-74.4l-49.2 49.2c-85-20.4-178.2 2.4-244.4 68.6-101.2 101.2-101.2 265.8 0 367s265.8 101.2 367 0 101.2-265.8 0-367c-7.8-7.8-16.2-15.2-24.8-21.8l0.6-0.6-0.6-0.4 276.4-276.2z\" transform=\"scale(1, -1) translate(0, -960)\"></path></svg></a><a class=\"cnav__hamburger\"><style data-emotion-css=\"1hrdril\">.css-1hrdril{height:30px;width:30px;fill:currentColor;}</style><svg aria-label=\"hamburger\" class=\"css-1hrdril\" viewbox=\"0 0 1024 1024\"><path d=\"M4 784h1016v-60h-1016v60zM4 478h1016v-60h-1016v60zM4 172h1016v-60h-1016v60z\" transform=\"scale(1, -1) translate(0, -960)\"></path></svg></a></div><div class=\"cnav-overlays\"></div></div></div></div></div><div class=\"layout-cntr\"><div id=\"visibility\"></div><div class=\"ng-ad-banner\"><style data-emotion-css=\"1s1zxv4\">.css-1s1zxv4{overflow:hidden;display:grid;place-items:center;height:250px;}@media (min-width:768px){.css-1s1zxv4{display:grid;place-items:center;height:90px;}}@media (min-width:1024px){.css-1s1zxv4{display:grid;place-items:center;height:350px;}}</style><div class=\"css-1s1zxv4\" id=\"gpt--header--25061\"></div></div><main id=\"main-content\" role=\"main\"><div id=\"layout-content\"><div><div id=\"block-nationalgeographic-content\"><article about=\"/espacio/top-10-impactos-de-asteroides-contra-la-tierra\" class=\"node node--type-article ngart media-photo ngart--preview\" data-node-id=\"25061\" typeof=\"schema:Article\"><style data-emotion-css=\"1k9bz63\">.css-1k9bz63{margin:20px 15px;}@media (min-width:768px){.css-1k9bz63{width:91%;max-width:1160px;margin:20px auto;}}</style><div class=\"css-1k9bz63\"><style data-emotion-css=\"9tgqqj\">.css-9tgqqj{display:inline-block;width:-webkit-fit-content;width:-moz-fit-content;width:fit-content;margin-bottom:1rem;border-right:1px solid #999;border-left:1px solid #999;padding:0 1rem;}.css-9tgqqj span,.css-9tgqqj a{font-weight:400;font-size:0.75rem;-webkit-letter-spacing:0.1875rem;-moz-letter-spacing:0.1875rem;-ms-letter-spacing:0.1875rem;letter-spacing:0.1875rem;line-height:1.4;font-family:GeoEditBold,sans-serif;text-transform:uppercase;color:#000;}</style><div class=\"css-9tgqqj\"><a href=\"/espacio\" hreflang=\"es\">Espacio</a></div><style data-emotion-css=\"7ambo7\">.css-7ambo7{font-family:GeoEditBold,sans-serif;font-size:2rem;line-height:1.2;-webkit-letter-spacing:0.00625rem;-moz-letter-spacing:0.00625rem;-ms-letter-spacing:0.00625rem;letter-spacing:0.00625rem;color:#000;}@media (min-width:768px){.css-7ambo7{font-size:2.5rem;}}</style><h1 class=\"css-7ambo7\">Top 10 impactos de asteroides contra la tierra</h1><style data-emotion-css=\"se91k\">.css-se91k{display:-webkit-box;display:-webkit-flex;display:-ms-flexbox;display:flex;-webkit-flex-direction:column;-ms-flex-direction:column;flex-direction:column;margin-top:20px;}@media (min-width:768px){.css-se91k{-webkit-flex-direction:row;-ms-flex-direction:row;flex-direction:row;margin-top:25px;}}</style><div class=\"css-se91k\"><style data-emotion-css=\"1xa9t63\">.css-1xa9t63{font-size:12px;font-family:GeoEditBold,sans-serif;font-stretch:normal;font-style:normal;line-height:1.5;-webkit-letter-spacing:3px;-moz-letter-spacing:3px;-ms-letter-spacing:3px;letter-spacing:3px;color:#000000;text-transform:uppercase;}@media (min-width:768px){.css-1xa9t63{font-family:GeoEditRegular,sans-serif;}.css-1xa9t63 span{font-family:GeoEditBold,sans-serif;color:#000000;}}.css-1xa9t63 a{color:#000;}.css-1xa9t63 a:hover{color:#666;}</style><div class=\"css-1xa9t63\">Por <span><a href=\"/autor/redaccion-national-geographic\">Redacción National Geographic</a></span></div></div></div><div class=\"article-cntr\"><div class=\"ngart__cont\" data-above-the-fold-paragraph-id=\"ArticleImageMedium\"><div class=\"gr-wrap ngart__group\"><div class=\"ngart__main-col\"><div class=\"ngart-img ngart-img--medium\"><div class=\"ngart-img__cntr\" role=\"button\" tabindex=\"0\"><picture class=\"resp-img-cntr\" style=\"padding-bottom:75%\"><source media=\"(max-width: 768px)\" srcset=\"https://static.nationalgeographic.es/files/styles/image_3200/public/11912.600x450.webp?w=768&amp;h=576\" type=\"image/webp\"/><source media=\"(max-width: 768px)\" srcset=\"https://static.nationalgeographic.es/files/styles/image_3200/public/11912.600x450.jpg?w=768&amp;h=576\" type=\"image/jpeg\"/><source media=\"(max-width: 1024px)\" srcset=\"https://static.nationalgeographic.es/files/styles/image_3200/public/11912.600x450.webp?w=1024&amp;h=768\" type=\"image/webp\"/><source media=\"(max-width: 1024px)\" srcset=\"https://static.nationalgeographic.es/files/styles/image_3200/public/11912.600x450.jpg?w=1024&amp;h=768\" type=\"image/jpeg\"/><source srcset=\"https://static.nationalgeographic.es/files/styles/image_3200/public/11912.600x450.webp?w=710&amp;h=533\" type=\"image/webp\"/><source srcset=\"https://static.nationalgeographic.es/files/styles/image_3200/public/11912.600x450.jpg?w=710&amp;h=533\" type=\"image/jpeg\"/><img alt=\"TOP 10 CRÁTERES DE ASTEROIDES\" height=\"533\" loading=\"lazy\" src=\"https://static.nationalgeographic.es/files/styles/image_3200/public/11912.600x450.webp?w=710&amp;h=533\" title=\"TOP 10 CRÁTERES DE ASTEROIDES\" width=\"710\"/><noscript><img alt=\"TOP 10 CRÁTERES DE ASTEROIDES\" height=\"533\" src=\"https://static.nationalgeographic.es/files/styles/image_3200/public/11912.600x450.webp?w=710&amp;h=533\" title=\"TOP 10 CRÁTERES DE ASTEROIDES\" width=\"710\"/></noscript><script type=\"application/ld+json\">{\"@context\":\"https://schema.org\",\"@type\":\"ImageObject\",\"url\":\"https://static.nationalgeographic.es/files/styles/image_3200/public/11912.600x450.jpg?w=1900&h=1425\",\"width\":1900,\"height\":1425,\"author\":{\"@type\":\"Person\",\"name\":\"Detlev van Ravenswaay, Science Source\"},\"contributor\":{\"@type\":\"Person\",\"name\":\"Detlev van Ravenswaay, Science Source\"},\"caption\":\"TOP 10 CRÁTERES DE ASTEROIDES\",\"name\":\"TOP 10 CRÁTERES DE ASTEROIDES\",\"alternateName\":\"11912.600x450\"}</script></picture></div><div class=\"ngart-img__cont\"><div class=\"ngart-img__cont__copy\">TOP 10 CRÁTERES DE ASTEROIDES</div><div class=\"ngart-img__cont__author\">Fotografía de <span class=\"ngart-img__cont--strong\">Detlev van Ravenswaay, Science Source</span></div></div></div><div class=\"paragraph\"><div><p><em>15 de febrero de 2013</em></p>\n",
       "<p><strong>Los impactos de cuerpos estelares en la Tierra siempre ha sido algo que ha preocupado a la población, incluidos los más escépticos.</strong></p>\n",
       "<p>Numerosas teorías hablan de que un meteorito terminó con los dinosaurios, o que en el futuro, la vida en la tierra perecerá por la colisión de uno de estos cuerpos. Por el momento no podemos confirmar ninguna teoría apocalíptica, pero si tenemos en nuestra mano el top 10 de impactos conocidos</p>\n",
       "<p><strong>1.Crater  Vredefort</strong></p>\n",
       "<p>Fecha del impacto: Hace dos mil millones de años aprox.</p>\n",
       "<p>Lugar: Free State, Sudáfrica</p>\n",
       "<p>Características: Este cráter tiene un radio estimado de 190 kilómetros, convirtiéndose en la mayor estructura creada por un impacto del mundo, y siendo declarado patrimonio por la UNESCO en 2005</p>\n",
       "<p><strong>2. Sudbury Basin</strong></p>\n",
       "<p>Fecha del impacto: Hace 1,8 miles de millones de años aprox.</p>\n",
       "<p>Lugar: Ontario, Canadá</p>\n",
       "<p>Características: El Sudbury Basin está considerado como uno de los mayores cráteres de la Tierra,  contando con un diámetro de 130 kilómetros. Además de estar entre los más grandes, también es uno de los más antiguos.</p>\n",
       "<p><strong>3. Crater Acraman</strong></p>\n",
       "<p>Fecha: Hace 580 millones de años aprox</p>\n",
       "<p>Lugar: Australia</p>\n",
       "<p>Características: Localizado en lo que actualmente es como el lago Acraman, tiene un diámetro aproximado de 90 kilómetros.</p>\n",
       "<p><strong>4. Crater Woodleigh</strong></p>\n",
       "<p>Fecha: Hace 364 millones de años aprox</p>\n",
       "<p>Lugar: Australia</p>\n",
       "<p>Características: Este cráter no está exento de polémica, pues su diámetro varía entre los 40 y los 120 kilómetros según las fuentes.</p>\n",
       "<p><strong>5. Manicouagan Crater</strong></p>\n",
       "<p>Fecha: 215 millones de años aprox.</p>\n",
       "<p>Lugar: Quebec, Canadá</p>\n",
       "<p>Características: Este cráter actualmente cobija el lago Manicouagan, y es uno de los mejor conservados, contando con un diámetro de 100 kilómetros.</p>\n",
       "<p><strong>6. Morokweng Crater</strong></p>\n",
       "<p>Fecha: hace 145 millones de años</p>\n",
       "<p>Lugar: Sudáfrica</p>\n",
       "<p>Características: Localizado cerca del desierto Kalahari, este cráter contiene los restos fosilizados del meteorito que lo creó.</p>\n",
       "<p><strong>7. Cráter  Kara</strong></p>\n",
       "<p>Fecha: Hace 70,3 millones de años</p>\n",
       "<p>Lugar: Nenetsia, Rusia</p>\n",
       "<p>Características: Es uno de los cráteres más deteriorados del mundo.</p>\n",
       "<p><strong>8. Cráter  Chicxulub</strong></p>\n",
       "<p>Fecha: Hace 65 millones de años aprox.</p>\n",
       "<p> Lugar: Yucatán, México</p>\n",
       "<p>Características: Localizado en la península del Yucatán, muchos achacan a este meteorito la culpa de  ser uno de los causantes de la extinción de los dinosaurios. Su diámetro varía entre los 170 y los 300 kilómetros.</p>\n",
       "<p><strong>9. Cráter Popigai</strong></p>\n",
       "<p>Fecha: Hace 35,7 millones de años aprox.</p>\n",
       "<p>Lugar: Siberia, Rusia</p>\n",
       "<p>Características: Los científicos rusos consideran que este cráter es un gran depósito de diamantes, confiriendo la categoría a este lugar de ser una de las mayores acumulaciones del mundo.</p>\n",
       "<p><strong>10. Cráter Chesapeake Bay</strong></p>\n",
       "<p>Fecha: Hace 35 millones de años aprox.</p>\n",
       "<p>Lugar: Virginia, EEUU</p>\n",
       "<p>Características: Descubierto a principios de la década de 1980, este cráter está situado a 200 kilómetros de Washington D.C.</p>\n",
       "</div></div></div><div class=\"ngart__side-col\"><div class=\"ngart__side-inner article-sticky\"><div class=\"ngart__ad-col\"><div class=\"ngart__side-ad\"><style data-emotion-css=\"qjq5zf\">.css-qjq5zf{overflow:hidden;display:none;}@media (min-width:1024px){.css-qjq5zf{display:grid;place-items:center;height:auto;min-height:250px;max-height:600px;}}</style><div class=\"css-qjq5zf\" id=\"gpt--article_side__0--25061\"></div></div></div><div class=\"ngart__subs-col\"></div></div></div></div></div><style data-emotion-css=\"lw958g\">.css-lw958g ul{margin-top:30px;}@media (min-width:1024px){.css-lw958g ul{width:calc(100% - 320px);}}</style><div class=\"gr-wrap css-lw958g\"><style data-emotion-css=\"5qhosn\">.css-5qhosn{display:-webkit-box;display:-webkit-flex;display:-ms-flexbox;display:flex;-webkit-flex-wrap:wrap;-ms-flex-wrap:wrap;flex-wrap:wrap;}.css-5qhosn li:nth-of-type(n + 11){display:none;}.css-5qhosn li:last-child{display:block;}</style><ul class=\"css-5qhosn\"><style data-emotion-css=\"1ojro25\">.css-1ojro25{list-style:none;margin-right:5px;margin-bottom:5px;}@media (min-width:768px){.css-1ojro25{margin-right:15px;margin-bottom:20px;}}</style><li class=\"css-1ojro25\"><style data-emotion-css=\"1w712gw\">.css-1w712gw{border-radius:2px;background-color:#f4f4f4;padding:3px 10px;font-family:GeoEditBold,sans-serif;font-size:10px;font-weight:500;font-stretch:normal;font-style:normal;line-height:1.8;-webkit-letter-spacing:3px;-moz-letter-spacing:3px;-ms-letter-spacing:3px;letter-spacing:3px;text-align:center;color:#000000;text-transform:uppercase;}@media (min-width:768px){.css-1w712gw{padding:6px 28px;}}.css-1w712gw:hover{background:#000000;color:#fff;}.css-1w712gw:hover a{color:#fff;}.css-1w712gw a{color:#000000;}</style><div class=\"css-1w712gw\"><a href=\"/espacio\">Espacio</a></div></li></ul><div class=\"ngart__read-more\">Seguir leyendo</div></div></div></article><div class=\"block-nationalgeographicfooterblock\" id=\"block-nationalgeographicfooterblock\"><div class=\"news\" id=\"footer\"><div class=\"gr-wrap\"><div class=\"news__info visible\"><div class=\"news__info__title\">Recibe lo último de NatGeo</div><form class=\"news__sub-form\"><input aria-label=\"Email\" class=\"news__info__method\" name=\"email\" placeholder=\"Correo Electrónico\"/><input aria-label=\"Registrarse\" class=\"news__info__cta\" data-layer-click-event='{\"event\":\"Click Register\",\"module\":\"Bottom\",\"location\":\"Articles &amp; HubPages\"}' type=\"button\" value=\"Registrarse\"/></form></div><div class=\"footer__follow\"><p class=\"footer__follow__title\">Síguenos</p><div class=\"ng-sharekit ng-sharekit--newsletter\"><div class=\"ng-sharekit__default-links\"><style data-emotion-css=\"7188b6\">.css-7188b6{display:block;margin-right:13px;margin-bottom:13px;}@media (min-width:1024px){.css-7188b6{margin-right:0;}}.css-7188b6 svg{display:block;-webkit-transition:all 300ms ease-in-out;transition:all 300ms ease-in-out;}.css-7188b6:hover svg{fill:#fc0;}</style><a class=\"sharelink sharelink--facebook css-7188b6\" data-action=\"\" data-no-external-disclaimer=\"true\" href=\"https://www.facebook.com/natgeoes\" rel=\"noopener noreferrer\" target=\"_blank\" title=\"Facebook\"><style data-emotion-css=\"ao8r21\">.css-ao8r21{height:20px;width:20px;fill:currentColor;}</style><svg aria-label=\"facebook\" class=\"css-ao8r21\" viewbox=\"0 0 754 754\"><path d=\"M568 581v77.8c0 29.6 19.6 36.4 33.2 36.4 13.8 0 84.2 0 84.2 0v128.8l-116.2 0.8c-128.6 0-157.6-96.2-157.6-158.2v-86h-74.6v-132.6h74.6c0-170.8 0-376.6 0-376.6h156.2c0 0 0 207.8 0 376.6h105.4l13.8 133h-119z\" transform=\"scale(1, -1) translate(-135, -825)\"></path></svg><span arial-label=\"facebook\" class=\"hidden\" role=\"button\">facebook</span></a><style data-emotion-css=\"7188b6\">.css-7188b6{display:block;margin-right:13px;margin-bottom:13px;}@media (min-width:1024px){.css-7188b6{margin-right:0;}}.css-7188b6 svg{display:block;-webkit-transition:all 300ms ease-in-out;transition:all 300ms ease-in-out;}.css-7188b6:hover svg{fill:#fc0;}</style><a class=\"sharelink sharelink--twitter css-7188b6\" data-action=\"\" data-no-external-disclaimer=\"true\" href=\"https://www.twitter.com/NatGeoEspana\" rel=\"noopener noreferrer\" target=\"_blank\" title=\"Twitter\"><style data-emotion-css=\"ao8r21\">.css-ao8r21{height:20px;width:20px;fill:currentColor;}</style><svg aria-label=\"twitter\" class=\"css-ao8r21\" viewbox=\"0 0 804 804\"><path d=\"M913.8 716.4c-29.8-14.4-61.4-23.8-94.8-28 34 22 60.2 56.6 72.8 98-32-20.2-67.4-34.6-105-43.2-29.8 34.6-73 56.2-120.2 56.2-91 0-164.8-79.4-164.8-177.6 0-13.8 1.4-27.4 4.2-40.2-136.8 7-258.4 78-339.8 185-14-26.2-22.2-56.6-22.2-89.2 0-61.4 29-116 73.2-147.4-27 1-52.6 8.6-74.6 22.2 0-0.8 0-1.6 0-2.4 0-85.8 56.8-157.4 132.2-174-13.8-4-28.4-5.8-43.6-5.8-10.6 0-20.6 0.8-30.8 3.2 21-70.8 82-122.2 154-123.2-56.4-47.8-127.4-76-204.8-76-13.4 0-26.6 0.8-39.4 2.4 73-50.6 159.4-80 252.8-80 303.2 0 469.2 270.4 469.2 505 0 7.6-0.2 15.2-0.6 22.6 32 25.6 60 56.8 82.2 92.4z\" transform=\"scale(1, -1) translate(-110, -850)\"></path></svg><span arial-label=\"twitter\" class=\"hidden\" role=\"button\">twitter</span></a><style data-emotion-css=\"7188b6\">.css-7188b6{display:block;margin-right:13px;margin-bottom:13px;}@media (min-width:1024px){.css-7188b6{margin-right:0;}}.css-7188b6 svg{display:block;-webkit-transition:all 300ms ease-in-out;transition:all 300ms ease-in-out;}.css-7188b6:hover svg{fill:#fc0;}</style><a class=\"sharelink sharelink--instagram css-7188b6\" data-action=\"\" data-no-external-disclaimer=\"true\" href=\"https://www.instagram.com/natgeoespana\" rel=\"noopener noreferrer\" target=\"_blank\" title=\"Instagram\"><style data-emotion-css=\"ao8r21\">.css-ao8r21{height:20px;width:20px;fill:currentColor;}</style><svg aria-label=\"instagram\" class=\"css-ao8r21\" viewbox=\"0 0 844 844\"><path d=\"M514 794c112.6 0 126-0.4 170.6-2.4 41.2-1.8 63.4-8.8 78.4-14.6 19.6-7.6 33.8-16.8 48.6-31.6s24-28.8 31.6-48.6c5.8-14.8 12.6-37.2 14.6-78.4 2-44.4 2.4-57.8 2.4-170.6s-0.4-126-2.4-170.6c-1.8-41.2-8.8-63.4-14.6-78.4-7.6-19.6-16.8-33.8-31.6-48.6s-28.8-24-48.6-31.6c-14.8-5.8-37.2-12.6-78.4-14.6-44.4-2-57.8-2.4-170.6-2.4s-126 0.4-170.6 2.4c-41.2 1.8-63.4 8.8-78.4 14.6-19.6 7.6-33.8 16.8-48.6 31.6s-24 28.8-31.6 48.6c-5.8 14.8-12.6 37.2-14.6 78.4-1.8 44.8-2.2 58.2-2.2 170.8s0.4 126 2.4 170.6c1.8 41.2 8.8 63.4 14.6 78.4 7.6 19.6 16.8 33.8 31.6 48.6s28.8 24 48.6 31.6c14.8 5.8 37.2 12.6 78.4 14.6 44.4 1.8 57.8 2.2 170.4 2.2zM514 870c-114.6 0-129-0.4-174-2.6-45-2-75.6-9.2-102.4-19.6-27.8-10.8-51.2-25.2-74.8-48.6-23.4-23.4-37.8-47-48.6-74.8-10.4-26.8-17.6-57.6-19.6-102.4-2-45-2.6-59.4-2.6-174s0.4-129 2.6-174c2-45 9.2-75.6 19.6-102.4 10.8-27.8 25.2-51.2 48.6-74.8 23.4-23.4 47-37.8 74.8-48.6 26.8-10.4 57.6-17.6 102.4-19.6 45-2 59.4-2.6 174-2.6s129 0.4 174 2.6c45 2 75.6 9.2 102.4 19.6 27.8 10.8 51.2 25.2 74.8 48.6 23.4 23.4 37.8 47 48.6 74.8 10.4 26.8 17.6 57.6 19.6 102.4 2 45 2.6 59.4 2.6 174s-0.4 129-2.6 174c-2 45-9.2 75.6-19.6 102.4-10.8 27.8-25.2 51.2-48.6 74.8-23.4 23.4-47 37.8-74.8 48.6-26.8 10.4-57.6 17.6-102.4 19.6-45 2.2-59.4 2.6-174 2.6v0zM514 664.8c-119.6 0-216.8-97-216.8-216.8s97.2-216.8 216.8-216.8 216.8 97.2 216.8 216.8-97.2 216.8-216.8 216.8zM514 307.4c-77.6 0-140.6 63-140.6 140.6s63 140.6 140.6 140.6 140.6-63 140.6-140.6-63-140.6-140.6-140.6zM789.8 673.2c0-27.946-22.654-50.6-50.6-50.6s-50.6 22.654-50.6 50.6c0 27.946 22.654 50.6 50.6 50.6s50.6-22.654 50.6-50.6z\" transform=\"scale(1, -1) translate(-90, -870)\"></path></svg><span arial-label=\"instagram\" class=\"hidden\" role=\"button\">instagram</span></a><style data-emotion-css=\"7188b6\">.css-7188b6{display:block;margin-right:13px;margin-bottom:13px;}@media (min-width:1024px){.css-7188b6{margin-right:0;}}.css-7188b6 svg{display:block;-webkit-transition:all 300ms ease-in-out;transition:all 300ms ease-in-out;}.css-7188b6:hover svg{fill:#fc0;}</style><a class=\"sharelink sharelink--flipboard css-7188b6\" data-action=\"\" data-no-external-disclaimer=\"true\" href=\"https://flipboard.com/@natgeographices\" rel=\"noopener noreferrer\" target=\"_blank\" title=\"Flipboard\"><style data-emotion-css=\"ao8r21\">.css-ao8r21{height:20px;width:20px;fill:currentColor;}</style><svg aria-label=\"flipboard\" class=\"css-ao8r21\" viewbox=\"0 0 500 500\"><path d=\"M0,0V500H500V0ZM400,200H300V300H200V400H100V100H400Z\"></path></svg><span arial-label=\"flipboard\" class=\"hidden\" role=\"button\">flipboard</span></a></div></div></div><div class=\"news__terms\"><p><a href=\"/terminos-y-condiciones-de-uso\">Términos y Condiciones de uso</a><a href=\"/politica-de-privacidad\">Política de Privacidad (Actualizada)</a><a href=\"/politica-de-cookies\">Política de Cookies</a><a href=\"/consent_management\">Gestión del consentimiento</a><button tabindex=\"0\" type=\"button\">Gestión de cookies</button></p></div></div></div><div style=\"clear:both\"></div></div><div class=\"transp\"><div class=\"gr-wrap\"><div class=\"transp__header\"><h3>También podría gustarte</h3></div><div class=\"transp__shows\"><a class=\"transp__item active\" href=\"/espacio/2018/06/el-meteoro-vesta-y-otros-fenomenos-astronomicos-de-junio\"><div class=\"transp__image\"><picture class=\"resp-img-cntr\" style=\"padding-bottom:100%\"><noscript><img alt=\"\" height=\"280\" src=\"https://static.nationalgeographic.es/files/styles/image_3200/public/02-june-skyguide-vesta.webp?w=280&amp;h=280\" width=\"280\"/></noscript></picture></div><div class=\"transp__tags-wrapper\"><div class=\"transp__tags\">Espacio</div></div><div class=\"transp__title\">El meteoro Vesta y otros fenómenos astronómicos de junio</div></a><a class=\"transp__item\" href=\"/espacio/2018/01/respondemos-preguntas-sobre-meteoro-norteamerica\"><div class=\"transp__image\"><picture class=\"resp-img-cntr\" style=\"padding-bottom:100%\"><noscript><img alt=\"\" height=\"280\" src=\"https://static.nationalgeographic.es/files/styles/image_3200/public/01-meteor-michigan.webp?w=280&amp;h=280\" width=\"280\"/></noscript></picture></div><div class=\"transp__tags-wrapper\"><div class=\"transp__tags\">Espacio</div></div><div class=\"transp__title\">Respondemos a las preguntas sobre el meteoro que surcó el cielo de Norteamérica</div></a><a class=\"transp__item\" href=\"/espacio/2017/12/esta-roca-del-espacio-interestelar-tiene-una-capa-externa-rica-en-carbono\"><div class=\"transp__image\"><picture class=\"resp-img-cntr\" style=\"padding-bottom:100%\"><noscript><img alt=\"\" height=\"280\" src=\"https://static.nationalgeographic.es/files/styles/image_3200/public/01-interstellar-asteroid.webp?w=280&amp;h=280\" width=\"280\"/></noscript></picture></div><div class=\"transp__tags-wrapper\"><div class=\"transp__tags\">Espacio</div></div><div class=\"transp__title\">Esta roca del espacio interestelar tiene una capa externa rica en carbono</div></a><a class=\"transp__item\" href=\"/espacio/2017/12/geminidas-2017-consejos-para-ver-una-de-las-mejores-lluvias-de-meteoros-del-ano\"><div class=\"transp__image\"><picture class=\"resp-img-cntr\" style=\"padding-bottom:100%\"><noscript><img alt=\"\" height=\"280\" src=\"https://static.nationalgeographic.es/files/styles/image_3200/public/geminids-startalk.webp?w=280&amp;h=280\" width=\"280\"/></noscript></picture></div><div class=\"transp__tags-wrapper\"><div class=\"transp__tags\">Espacio</div></div><div class=\"transp__title\">Gemínidas 2017: cómo ver una de las mejores lluvias de estrellas del año</div></a><a class=\"transp__item\" href=\"/espacio/2017/11/el-primer-objeto-interestelar-observado-en-nuestro-sistema-solar-tiene-una-forma\"><div class=\"transp__image\"><picture class=\"resp-img-cntr\" style=\"padding-bottom:100%\"><noscript><img alt=\"\" height=\"280\" src=\"https://static.nationalgeographic.es/files/styles/image_3200/public/asteroid-eso1737a.webp?w=280&amp;h=280\" width=\"280\"/></noscript></picture></div><div class=\"transp__tags-wrapper\"><div class=\"transp__tags\">Espacio</div></div><div class=\"transp__title\">El primer objeto interestelar observado en nuestro sistema solar tiene una forma muy inusual</div></a></div></div><div class=\"transp__loader\" style=\"width:100%;clear:both;background-color:#222\"></div></div></div></div></div></main></div></div></div><div id=\"flash-message\"></div><div id=\"ng-metadata\"><!-- source-file: /node/article/2013/02/article-25061.json | content-type: article --></div></div><div aria-atomic=\"true\" aria-live=\"assertive\" id=\"gatsby-announcer\" style=\"position:absolute;top:0;width:1px;height:1px;padding:0;overflow:hidden;clip:rect(0, 0, 0, 0);white-space:nowrap;border:0\"></div></div><noscript><iframe height=\"0\" src=\"https://www.googletagmanager.com/ns.html?id=GTM-W2Q42S\" style=\"display: none; visibility: hidden;\" title=\"tag-manager\" width=\"0\"></iframe></noscript><script defer=\"\" src=\"/legacy/jquery-3.2.1.min.js\"></script><script defer=\"\" src=\"https://securepubads.g.doubleclick.net/tag/js/gpt.js\"></script><script charset=\"UTF-8\" data-domain-script=\"71df936f-e6f8-4f17-99c1-d2b891da947a\" data-language=\"es\" defer=\"\" src=\"https://cdn.cookielaw.org/scripttemplates/otSDKStub.js\" type=\"text/javascript\"></script><script>function OptanonWrapper(){ window.dataLayer = window.dataLayer || []; window.dataLayer.push({ 'event': 'OT_loaded' }); (function(w,d,s,l,i){w[l]=w[l]||[];w[l].push({'gtm.start':new Date().getTime(),event:'gtm.js'});var f=d.getElementsByTagName(s)[0],j=d.createElement(s),dl=l!='dataLayer'?'&l='+l:'';j.async=false;j.src='https://www.googletagmanager.com/gtm.js?id='+i+dl;f.parentNode.insertBefore(j,f); })(window,document,'script','dataLayer','GTM-W2Q42S'); const startDate = new Date().getTime(); const intervalId = setInterval(() => { const currentDate = new Date().getTime(); if (currentDate - startDate > 20 * 1000) { clearInterval(intervalId); } if (window.__tcfapi) { window.__tcfapi('ping', 2, e => { if (e.cmpLoaded && e.cmpLoaded === true && e.cmpStatus && e.cmpStatus === \"loaded\") { clearInterval(intervalId); window.CmpRequirementsReady = true;document.dispatchEvent(new Event(\"CmpRequirementsReady\")); } }); } }, 50); }</script><script id=\"gatsby-script-loader\">/*<![CDATA[*/window.pagePath=\"/espacio/top-10-impactos-de-asteroides-contra-la-tierra\";/*]]>*/</script><script id=\"gatsby-chunk-mapping\">/*<![CDATA[*/window.___chunkMapping={\"app\":[\"/app-3d279dc2dced45e4ddea.js\"],\"component---src-views-article-article-amp-jsx\":[\"/component---src-views-article-article-amp-jsx-d4cb77e6ba6bf92c7708.js\"],\"component---src-views-article-article-jsx\":[\"/component---src-views-article-article-jsx-f9a4381b316e50c05c2d.js\"],\"component---src-views-author-author-jsx\":[\"/component---src-views-author-author-jsx-e6ebc353dbaa13931ebb.js\"],\"component---src-views-error-403-error-403-jsx\":[\"/component---src-views-error-403-error-403-jsx-004c505d7dfbc4172b35.js\"],\"component---src-views-error-404-error-404-jsx\":[\"/component---src-views-error-404-error-404-jsx-392eceefc720b88c96c1.js\"],\"component---src-views-homepage-homepage-jsx\":[\"/component---src-views-homepage-homepage-jsx-a14c7430b1b2c4b3b78a.js\"],\"component---src-views-hub-page-hub-page-jsx\":[\"/component---src-views-hub-page-hub-page-jsx-88de642c666307fa24a0.js\"],\"component---src-views-page-page-jsx\":[\"/component---src-views-page-page-jsx-5260a891f968a1e416ef.js\"],\"component---src-views-photo-gallery-photo-gallery-amp-jsx\":[\"/component---src-views-photo-gallery-photo-gallery-amp-jsx-c68357c1857beacde4e6.js\"],\"component---src-views-photo-gallery-photo-gallery-jsx\":[\"/component---src-views-photo-gallery-photo-gallery-jsx-c47cd57c739a8ae417f1.js\"],\"component---src-views-pod-index-pod-index-page-jsx\":[\"/component---src-views-pod-index-pod-index-page-jsx-68189ee0d1f5e79d0307.js\"],\"component---src-views-schedule-schedule-jsx\":[\"/component---src-views-schedule-schedule-jsx-dd99796dca231c4ddc7d.js\"],\"component---src-views-search-search-jsx\":[\"/component---src-views-search-search-jsx-a61bbf82e85c67d1368f.js\"],\"component---src-views-show-show-amp-jsx\":[\"/component---src-views-show-show-amp-jsx-00cc8f5524184dcc0aa8.js\"],\"component---src-views-show-show-jsx\":[\"/component---src-views-show-show-jsx-ca869bd0b6d2feb26cbb.js\"],\"component---src-views-subscribe-page-subscribe-page-jsx\":[\"/component---src-views-subscribe-page-subscribe-page-jsx-0aecac7c13c467968406.js\"],\"component---src-views-video-landing-page-video-landing-page-jsx\":[\"/component---src-views-video-landing-page-video-landing-page-jsx-537e879bf45588de7562.js\"]};/*]]>*/</script><script async=\"\" src=\"/component---src-views-article-article-jsx-f9a4381b316e50c05c2d.js\"></script><script async=\"\" src=\"/df4265884d26b61f043754e386df1b71c2cde7ff-ad8b6a2646eb87b61384.js\"></script><script async=\"\" src=\"/51e78a9d80d2a64060a1d3f667eb08fbcbf56497-78d2d3363b6fa892d46f.js\"></script><script async=\"\" src=\"/commons-d3632b9733e5001bc361.js\"></script><script async=\"\" src=\"/app-3d279dc2dced45e4ddea.js\"></script><script async=\"\" src=\"/framework-b3168a2cbdb187b9ddad.js\"></script><script async=\"\" src=\"/webpack-runtime-84b1416ea50c2ca17953.js\"></script></body></html>"
      ]
     },
     "execution_count": 6,
     "metadata": {},
     "output_type": "execute_result"
    }
   ],
   "source": [
    "sopa = BeautifulSoup(contenido, \"html.parser\")\n",
    "sopa"
   ]
  },
  {
   "cell_type": "code",
   "execution_count": 7,
   "metadata": {},
   "outputs": [
    {
     "data": {
      "text/plain": [
       "'Top 10 impactos de asteroides contra la tierra | National Geographic'"
      ]
     },
     "execution_count": 7,
     "metadata": {},
     "output_type": "execute_result"
    }
   ],
   "source": [
    "sopa.title.text"
   ]
  },
  {
   "cell_type": "code",
   "execution_count": 8,
   "metadata": {},
   "outputs": [
    {
     "data": {
      "text/plain": [
       "'Top 10 impactos de asteroides contra la tierra'"
      ]
     },
     "execution_count": 8,
     "metadata": {},
     "output_type": "execute_result"
    }
   ],
   "source": [
    "h1 = sopa.find('h1').text\n",
    "h1"
   ]
  },
  {
   "cell_type": "code",
   "execution_count": 9,
   "metadata": {},
   "outputs": [
    {
     "data": {
      "text/plain": [
       "<div class=\"paragraph\"><div><p><em>15 de febrero de 2013</em></p>\n",
       "<p><strong>Los impactos de cuerpos estelares en la Tierra siempre ha sido algo que ha preocupado a la población, incluidos los más escépticos.</strong></p>\n",
       "<p>Numerosas teorías hablan de que un meteorito terminó con los dinosaurios, o que en el futuro, la vida en la tierra perecerá por la colisión de uno de estos cuerpos. Por el momento no podemos confirmar ninguna teoría apocalíptica, pero si tenemos en nuestra mano el top 10 de impactos conocidos</p>\n",
       "<p><strong>1.Crater  Vredefort</strong></p>\n",
       "<p>Fecha del impacto: Hace dos mil millones de años aprox.</p>\n",
       "<p>Lugar: Free State, Sudáfrica</p>\n",
       "<p>Características: Este cráter tiene un radio estimado de 190 kilómetros, convirtiéndose en la mayor estructura creada por un impacto del mundo, y siendo declarado patrimonio por la UNESCO en 2005</p>\n",
       "<p><strong>2. Sudbury Basin</strong></p>\n",
       "<p>Fecha del impacto: Hace 1,8 miles de millones de años aprox.</p>\n",
       "<p>Lugar: Ontario, Canadá</p>\n",
       "<p>Características: El Sudbury Basin está considerado como uno de los mayores cráteres de la Tierra,  contando con un diámetro de 130 kilómetros. Además de estar entre los más grandes, también es uno de los más antiguos.</p>\n",
       "<p><strong>3. Crater Acraman</strong></p>\n",
       "<p>Fecha: Hace 580 millones de años aprox</p>\n",
       "<p>Lugar: Australia</p>\n",
       "<p>Características: Localizado en lo que actualmente es como el lago Acraman, tiene un diámetro aproximado de 90 kilómetros.</p>\n",
       "<p><strong>4. Crater Woodleigh</strong></p>\n",
       "<p>Fecha: Hace 364 millones de años aprox</p>\n",
       "<p>Lugar: Australia</p>\n",
       "<p>Características: Este cráter no está exento de polémica, pues su diámetro varía entre los 40 y los 120 kilómetros según las fuentes.</p>\n",
       "<p><strong>5. Manicouagan Crater</strong></p>\n",
       "<p>Fecha: 215 millones de años aprox.</p>\n",
       "<p>Lugar: Quebec, Canadá</p>\n",
       "<p>Características: Este cráter actualmente cobija el lago Manicouagan, y es uno de los mejor conservados, contando con un diámetro de 100 kilómetros.</p>\n",
       "<p><strong>6. Morokweng Crater</strong></p>\n",
       "<p>Fecha: hace 145 millones de años</p>\n",
       "<p>Lugar: Sudáfrica</p>\n",
       "<p>Características: Localizado cerca del desierto Kalahari, este cráter contiene los restos fosilizados del meteorito que lo creó.</p>\n",
       "<p><strong>7. Cráter  Kara</strong></p>\n",
       "<p>Fecha: Hace 70,3 millones de años</p>\n",
       "<p>Lugar: Nenetsia, Rusia</p>\n",
       "<p>Características: Es uno de los cráteres más deteriorados del mundo.</p>\n",
       "<p><strong>8. Cráter  Chicxulub</strong></p>\n",
       "<p>Fecha: Hace 65 millones de años aprox.</p>\n",
       "<p> Lugar: Yucatán, México</p>\n",
       "<p>Características: Localizado en la península del Yucatán, muchos achacan a este meteorito la culpa de  ser uno de los causantes de la extinción de los dinosaurios. Su diámetro varía entre los 170 y los 300 kilómetros.</p>\n",
       "<p><strong>9. Cráter Popigai</strong></p>\n",
       "<p>Fecha: Hace 35,7 millones de años aprox.</p>\n",
       "<p>Lugar: Siberia, Rusia</p>\n",
       "<p>Características: Los científicos rusos consideran que este cráter es un gran depósito de diamantes, confiriendo la categoría a este lugar de ser una de las mayores acumulaciones del mundo.</p>\n",
       "<p><strong>10. Cráter Chesapeake Bay</strong></p>\n",
       "<p>Fecha: Hace 35 millones de años aprox.</p>\n",
       "<p>Lugar: Virginia, EEUU</p>\n",
       "<p>Características: Descubierto a principios de la década de 1980, este cráter está situado a 200 kilómetros de Washington D.C.</p>\n",
       "</div></div>"
      ]
     },
     "execution_count": 9,
     "metadata": {},
     "output_type": "execute_result"
    }
   ],
   "source": [
    "top10 = sopa.find('div', {'class':'paragraph'})\n",
    "\n",
    "top10"
   ]
  },
  {
   "cell_type": "code",
   "execution_count": 10,
   "metadata": {},
   "outputs": [
    {
     "data": {
      "text/plain": [
       "[<strong>1.Crater  Vredefort</strong>,\n",
       " <strong>2. Sudbury Basin</strong>,\n",
       " <strong>3. Crater Acraman</strong>,\n",
       " <strong>4. Crater Woodleigh</strong>,\n",
       " <strong>5. Manicouagan Crater</strong>,\n",
       " <strong>6. Morokweng Crater</strong>,\n",
       " <strong>7. Cráter  Kara</strong>,\n",
       " <strong>8. Cráter  Chicxulub</strong>,\n",
       " <strong>9. Cráter Popigai</strong>,\n",
       " <strong>10. Cráter Chesapeake Bay</strong>]"
      ]
     },
     "execution_count": 10,
     "metadata": {},
     "output_type": "execute_result"
    }
   ],
   "source": [
    "lst_top=top10.find_all('strong')\n",
    "lst_top=lst_top[1:]\n",
    "lst_top"
   ]
  },
  {
   "cell_type": "code",
   "execution_count": 11,
   "metadata": {},
   "outputs": [
    {
     "data": {
      "text/plain": [
       "['1.Crater \\xa0Vredefort',\n",
       " '2. Sudbury Basin',\n",
       " '3. Crater Acraman',\n",
       " '4. Crater Woodleigh',\n",
       " '5. Manicouagan Crater',\n",
       " '6. Morokweng Crater',\n",
       " '7. Cráter \\xa0Kara',\n",
       " '8. Cráter \\xa0Chicxulub',\n",
       " '9. Cráter Popigai',\n",
       " '10. Cráter Chesapeake Bay']"
      ]
     },
     "execution_count": 11,
     "metadata": {},
     "output_type": "execute_result"
    }
   ],
   "source": [
    "\n",
    "lst_top_v = [i.text.replace('\\n','') for i in lst_top]\n",
    "lst_top_v"
   ]
  },
  {
   "cell_type": "code",
   "execution_count": 12,
   "metadata": {},
   "outputs": [
    {
     "data": {
      "text/plain": [
       "['1.Crater Vredefort',\n",
       " '2. Sudbury Basin',\n",
       " '3. Crater Acraman',\n",
       " '4. Crater Woodleigh',\n",
       " '5. Manicouagan Crater',\n",
       " '6. Morokweng Crater',\n",
       " '7. Cráter Kara',\n",
       " '8. Cráter Chicxulub',\n",
       " '9. Cráter Popigai',\n",
       " '10. Cráter Chesapeake Bay']"
      ]
     },
     "execution_count": 12,
     "metadata": {},
     "output_type": "execute_result"
    }
   ],
   "source": [
    "lst_top_v = [i.text.replace('\\xa0','') for i in lst_top]\n",
    "lst_top_v = [i.text.replace('\\xa0','') for i in lst_top]\n",
    "lst_top_v"
   ]
  },
  {
   "cell_type": "code",
   "execution_count": 13,
   "metadata": {},
   "outputs": [
    {
     "data": {
      "text/plain": [
       "['Crater Vredefort',\n",
       " ' Sudbury Basin',\n",
       " ' Crater Acraman',\n",
       " ' Crater Woodleigh',\n",
       " ' Manicouagan Crater',\n",
       " ' Morokweng Crater',\n",
       " ' Cráter Kara',\n",
       " ' Cráter Chicxulub',\n",
       " ' Cráter Popigai',\n",
       " ' Cráter Chesapeake Bay']"
      ]
     },
     "execution_count": 13,
     "metadata": {},
     "output_type": "execute_result"
    }
   ],
   "source": [
    "nombre=[]\n",
    "n=1\n",
    "for i in lst_top_v:\n",
    "    nombre.append(i.replace(str(n)+'.',''))\n",
    "   \n",
    "    n= n+1\n",
    "nombre"
   ]
  },
  {
   "cell_type": "code",
   "execution_count": 14,
   "metadata": {},
   "outputs": [
    {
     "data": {
      "text/plain": [
       "[<p><em>15 de febrero de 2013</em></p>,\n",
       " <p><strong>Los impactos de cuerpos estelares en la Tierra siempre ha sido algo que ha preocupado a la población, incluidos los más escépticos.</strong></p>,\n",
       " <p>Numerosas teorías hablan de que un meteorito terminó con los dinosaurios, o que en el futuro, la vida en la tierra perecerá por la colisión de uno de estos cuerpos. Por el momento no podemos confirmar ninguna teoría apocalíptica, pero si tenemos en nuestra mano el top 10 de impactos conocidos</p>,\n",
       " <p><strong>1.Crater  Vredefort</strong></p>,\n",
       " <p>Fecha del impacto: Hace dos mil millones de años aprox.</p>,\n",
       " <p>Lugar: Free State, Sudáfrica</p>,\n",
       " <p>Características: Este cráter tiene un radio estimado de 190 kilómetros, convirtiéndose en la mayor estructura creada por un impacto del mundo, y siendo declarado patrimonio por la UNESCO en 2005</p>,\n",
       " <p><strong>2. Sudbury Basin</strong></p>,\n",
       " <p>Fecha del impacto: Hace 1,8 miles de millones de años aprox.</p>,\n",
       " <p>Lugar: Ontario, Canadá</p>,\n",
       " <p>Características: El Sudbury Basin está considerado como uno de los mayores cráteres de la Tierra,  contando con un diámetro de 130 kilómetros. Además de estar entre los más grandes, también es uno de los más antiguos.</p>,\n",
       " <p><strong>3. Crater Acraman</strong></p>,\n",
       " <p>Fecha: Hace 580 millones de años aprox</p>,\n",
       " <p>Lugar: Australia</p>,\n",
       " <p>Características: Localizado en lo que actualmente es como el lago Acraman, tiene un diámetro aproximado de 90 kilómetros.</p>,\n",
       " <p><strong>4. Crater Woodleigh</strong></p>,\n",
       " <p>Fecha: Hace 364 millones de años aprox</p>,\n",
       " <p>Lugar: Australia</p>,\n",
       " <p>Características: Este cráter no está exento de polémica, pues su diámetro varía entre los 40 y los 120 kilómetros según las fuentes.</p>,\n",
       " <p><strong>5. Manicouagan Crater</strong></p>,\n",
       " <p>Fecha: 215 millones de años aprox.</p>,\n",
       " <p>Lugar: Quebec, Canadá</p>,\n",
       " <p>Características: Este cráter actualmente cobija el lago Manicouagan, y es uno de los mejor conservados, contando con un diámetro de 100 kilómetros.</p>,\n",
       " <p><strong>6. Morokweng Crater</strong></p>,\n",
       " <p>Fecha: hace 145 millones de años</p>,\n",
       " <p>Lugar: Sudáfrica</p>,\n",
       " <p>Características: Localizado cerca del desierto Kalahari, este cráter contiene los restos fosilizados del meteorito que lo creó.</p>,\n",
       " <p><strong>7. Cráter  Kara</strong></p>,\n",
       " <p>Fecha: Hace 70,3 millones de años</p>,\n",
       " <p>Lugar: Nenetsia, Rusia</p>,\n",
       " <p>Características: Es uno de los cráteres más deteriorados del mundo.</p>,\n",
       " <p><strong>8. Cráter  Chicxulub</strong></p>,\n",
       " <p>Fecha: Hace 65 millones de años aprox.</p>,\n",
       " <p> Lugar: Yucatán, México</p>,\n",
       " <p>Características: Localizado en la península del Yucatán, muchos achacan a este meteorito la culpa de  ser uno de los causantes de la extinción de los dinosaurios. Su diámetro varía entre los 170 y los 300 kilómetros.</p>,\n",
       " <p><strong>9. Cráter Popigai</strong></p>,\n",
       " <p>Fecha: Hace 35,7 millones de años aprox.</p>,\n",
       " <p>Lugar: Siberia, Rusia</p>,\n",
       " <p>Características: Los científicos rusos consideran que este cráter es un gran depósito de diamantes, confiriendo la categoría a este lugar de ser una de las mayores acumulaciones del mundo.</p>,\n",
       " <p><strong>10. Cráter Chesapeake Bay</strong></p>,\n",
       " <p>Fecha: Hace 35 millones de años aprox.</p>,\n",
       " <p>Lugar: Virginia, EEUU</p>,\n",
       " <p>Características: Descubierto a principios de la década de 1980, este cráter está situado a 200 kilómetros de Washington D.C.</p>]"
      ]
     },
     "execution_count": 14,
     "metadata": {},
     "output_type": "execute_result"
    }
   ],
   "source": [
    "parrafos = top10.find_all('p')\n",
    "parrafos"
   ]
  },
  {
   "cell_type": "code",
   "execution_count": 15,
   "metadata": {},
   "outputs": [
    {
     "data": {
      "text/plain": [
       "['15 de febrero de 2013',\n",
       " 'Los impactos de cuerpos estelares en la Tierra siempre ha sido algo que ha preocupado a la población, incluidos los más escépticos.',\n",
       " 'Numerosas teorías hablan de que un meteorito terminó con los dinosaurios, o que en el futuro, la vida en la tierra perecerá por la colisión de uno de estos cuerpos. Por el momento no podemos confirmar ninguna teoría apocalíptica, pero si tenemos en nuestra mano el top 10 de impactos conocidos',\n",
       " '1.Crater \\xa0Vredefort',\n",
       " 'Fecha del impacto: Hace dos mil millones de años aprox.',\n",
       " 'Lugar: Free State, Sudáfrica',\n",
       " 'Características: Este cráter tiene un radio estimado de 190 kilómetros, convirtiéndose en la mayor estructura creada por un impacto del mundo, y siendo declarado patrimonio por la UNESCO en 2005',\n",
       " '2. Sudbury Basin',\n",
       " 'Fecha del impacto: Hace 1,8 miles de millones de años aprox.',\n",
       " 'Lugar: Ontario, Canadá',\n",
       " 'Características: El Sudbury Basin está considerado como uno de los mayores cráteres de la Tierra, \\xa0contando con un diámetro de 130 kilómetros. Además de estar entre los más grandes, también es uno de los más antiguos.',\n",
       " '3. Crater Acraman',\n",
       " 'Fecha: Hace 580 millones de años aprox',\n",
       " 'Lugar: Australia',\n",
       " 'Características: Localizado en lo que actualmente es como el lago Acraman, tiene un diámetro aproximado de 90 kilómetros.',\n",
       " '4. Crater Woodleigh',\n",
       " 'Fecha: Hace 364 millones de años aprox',\n",
       " 'Lugar: Australia',\n",
       " 'Características: Este cráter no está exento de polémica, pues su diámetro varía entre los 40 y los 120 kilómetros según las fuentes.',\n",
       " '5. Manicouagan Crater',\n",
       " 'Fecha: 215 millones de años aprox.',\n",
       " 'Lugar: Quebec, Canadá',\n",
       " 'Características: Este cráter actualmente cobija el lago Manicouagan, y es uno de los mejor conservados, contando con un diámetro de 100 kilómetros.',\n",
       " '6. Morokweng Crater',\n",
       " 'Fecha: hace 145 millones de años',\n",
       " 'Lugar: Sudáfrica',\n",
       " 'Características: Localizado cerca del desierto Kalahari, este cráter contiene los restos fosilizados del meteorito que lo creó.',\n",
       " '7. Cráter \\xa0Kara',\n",
       " 'Fecha: Hace 70,3 millones de años',\n",
       " 'Lugar: Nenetsia, Rusia',\n",
       " 'Características: Es uno de los cráteres más deteriorados del mundo.',\n",
       " '8. Cráter \\xa0Chicxulub',\n",
       " 'Fecha: Hace 65 millones de años aprox.',\n",
       " '\\xa0Lugar: Yucatán, México',\n",
       " 'Características: Localizado en la península del Yucatán, muchos achacan a este meteorito la culpa de\\xa0 ser uno de los causantes de la extinción de los dinosaurios. Su diámetro varía entre los 170 y los 300 kilómetros.',\n",
       " '9. Cráter Popigai',\n",
       " 'Fecha: Hace 35,7 millones de años aprox.',\n",
       " 'Lugar: Siberia, Rusia',\n",
       " 'Características: Los científicos rusos consideran que este cráter es un gran depósito de diamantes, confiriendo la categoría a este lugar de ser una de las mayores acumulaciones del mundo.',\n",
       " '10. Cráter Chesapeake Bay',\n",
       " 'Fecha: Hace 35 millones de años aprox.',\n",
       " 'Lugar: Virginia, EEUU',\n",
       " 'Características: Descubierto a principios de la década de 1980, este cráter está situado a 200 kilómetros de Washington D.C.']"
      ]
     },
     "execution_count": 15,
     "metadata": {},
     "output_type": "execute_result"
    }
   ],
   "source": [
    "lst_parrafo = [i.text.replace('\\n','') for i in parrafos]\n",
    "lst_parrafo"
   ]
  },
  {
   "cell_type": "code",
   "execution_count": 16,
   "metadata": {},
   "outputs": [],
   "source": [
    "fec=[]\n",
    "lug=[]\n",
    "car=[]\n",
    "for i in lst_parrafo:\n",
    "    if i.find(\"Fecha\")!= -1:\n",
    "        fec.append(i)\n",
    "    if i.find(\"Lugar\")!= -1:\n",
    "        lug.append(i)\n",
    "    if i.find(\"Características\")!= -1:\n",
    "        car.append(i)\n",
    "        \n",
    "        \n",
    "        \n",
    "    "
   ]
  },
  {
   "cell_type": "code",
   "execution_count": 17,
   "metadata": {},
   "outputs": [
    {
     "data": {
      "text/plain": [
       "['dos mil millones de años aprox.',\n",
       " '1,8 miles de millones de años aprox.',\n",
       " '580 millones de años aprox',\n",
       " '364 millones de años aprox',\n",
       " '215 millones de años aprox.',\n",
       " 'hace 145 millones de años',\n",
       " '70,3 millones de años',\n",
       " '65 millones de años aprox.',\n",
       " '35,7 millones de años aprox.',\n",
       " '35 millones de años aprox.']"
      ]
     },
     "execution_count": 17,
     "metadata": {},
     "output_type": "execute_result"
    }
   ],
   "source": [
    "fec = [i.replace(' del impacto','') for i in fec]\n",
    "fec = [i.replace('Hace ','') for i in fec]\n",
    "fec = [i.replace('Fecha: ','') for i in fec]\n",
    "fec"
   ]
  },
  {
   "cell_type": "code",
   "execution_count": 18,
   "metadata": {},
   "outputs": [
    {
     "data": {
      "text/plain": [
       "['Free State, Sudáfrica',\n",
       " 'Ontario, Canadá',\n",
       " 'Australia',\n",
       " 'Australia',\n",
       " 'Quebec, Canadá',\n",
       " 'Sudáfrica',\n",
       " 'Nenetsia, Rusia',\n",
       " 'Yucatán, México',\n",
       " 'Siberia, Rusia',\n",
       " 'Virginia, EEUU']"
      ]
     },
     "execution_count": 18,
     "metadata": {},
     "output_type": "execute_result"
    }
   ],
   "source": [
    "lug = [i.replace('\\xa0','') for i in lug]\n",
    "lug = [i.replace('Lugar: ','') for i in lug]\n",
    "lug"
   ]
  },
  {
   "cell_type": "code",
   "execution_count": 19,
   "metadata": {},
   "outputs": [
    {
     "data": {
      "text/plain": [
       "['Este cráter tiene un radio estimado de 190 kilómetros, convirtiéndose en la mayor estructura creada por un impacto del mundo, y siendo declarado patrimonio por la UNESCO en 2005',\n",
       " 'El Sudbury Basin está considerado como uno de los mayores cráteres de la Tierra, \\xa0contando con un diámetro de 130 kilómetros. Además de estar entre los más grandes, también es uno de los más antiguos.',\n",
       " 'Localizado en lo que actualmente es como el lago Acraman, tiene un diámetro aproximado de 90 kilómetros.',\n",
       " 'Este cráter no está exento de polémica, pues su diámetro varía entre los 40 y los 120 kilómetros según las fuentes.',\n",
       " 'Este cráter actualmente cobija el lago Manicouagan, y es uno de los mejor conservados, contando con un diámetro de 100 kilómetros.',\n",
       " 'Localizado cerca del desierto Kalahari, este cráter contiene los restos fosilizados del meteorito que lo creó.',\n",
       " 'Es uno de los cráteres más deteriorados del mundo.',\n",
       " 'Localizado en la península del Yucatán, muchos achacan a este meteorito la culpa de\\xa0 ser uno de los causantes de la extinción de los dinosaurios. Su diámetro varía entre los 170 y los 300 kilómetros.',\n",
       " 'Los científicos rusos consideran que este cráter es un gran depósito de diamantes, confiriendo la categoría a este lugar de ser una de las mayores acumulaciones del mundo.',\n",
       " 'Descubierto a principios de la década de 1980, este cráter está situado a 200 kilómetros de Washington D.C.']"
      ]
     },
     "execution_count": 19,
     "metadata": {},
     "output_type": "execute_result"
    }
   ],
   "source": [
    "car = [i.replace('Características: ','') for i in car]\n",
    "car"
   ]
  },
  {
   "cell_type": "code",
   "execution_count": 25,
   "metadata": {},
   "outputs": [],
   "source": [
    "lst = []\n",
    "\n",
    "for i in nombre:    \n",
    "    data = {'Nombre':nombre[nombre.index(i)],\n",
    "           'Fecha de Impacto':fec[nombre.index(i)],\n",
    "           'Lugar':lug[nombre.index(i)],\n",
    "           'Caracteristicas':car[nombre.index(i)]}\n",
    "    lst.append(data)\n"
   ]
  },
  {
   "cell_type": "code",
   "execution_count": 21,
   "metadata": {},
   "outputs": [],
   "source": [
    "df = pd.DataFrame(lst)"
   ]
  },
  {
   "cell_type": "code",
   "execution_count": 22,
   "metadata": {},
   "outputs": [
    {
     "data": {
      "text/html": [
       "<div>\n",
       "<style scoped>\n",
       "    .dataframe tbody tr th:only-of-type {\n",
       "        vertical-align: middle;\n",
       "    }\n",
       "\n",
       "    .dataframe tbody tr th {\n",
       "        vertical-align: top;\n",
       "    }\n",
       "\n",
       "    .dataframe thead th {\n",
       "        text-align: right;\n",
       "    }\n",
       "</style>\n",
       "<table border=\"1\" class=\"dataframe\">\n",
       "  <thead>\n",
       "    <tr style=\"text-align: right;\">\n",
       "      <th></th>\n",
       "      <th>Nombre</th>\n",
       "      <th>Fecha de Impacto</th>\n",
       "      <th>Lugar</th>\n",
       "      <th>Caracteristicas</th>\n",
       "    </tr>\n",
       "  </thead>\n",
       "  <tbody>\n",
       "    <tr>\n",
       "      <th>0</th>\n",
       "      <td>Crater Vredefort</td>\n",
       "      <td>dos mil millones de años aprox.</td>\n",
       "      <td>Free State, Sudáfrica</td>\n",
       "      <td>Este cráter tiene un radio estimado de 190 kil...</td>\n",
       "    </tr>\n",
       "    <tr>\n",
       "      <th>1</th>\n",
       "      <td>Sudbury Basin</td>\n",
       "      <td>1,8 miles de millones de años aprox.</td>\n",
       "      <td>Ontario, Canadá</td>\n",
       "      <td>El Sudbury Basin está considerado como uno de ...</td>\n",
       "    </tr>\n",
       "    <tr>\n",
       "      <th>2</th>\n",
       "      <td>Crater Acraman</td>\n",
       "      <td>580 millones de años aprox</td>\n",
       "      <td>Australia</td>\n",
       "      <td>Localizado en lo que actualmente es como el la...</td>\n",
       "    </tr>\n",
       "    <tr>\n",
       "      <th>3</th>\n",
       "      <td>Crater Woodleigh</td>\n",
       "      <td>364 millones de años aprox</td>\n",
       "      <td>Australia</td>\n",
       "      <td>Este cráter no está exento de polémica, pues s...</td>\n",
       "    </tr>\n",
       "    <tr>\n",
       "      <th>4</th>\n",
       "      <td>Manicouagan Crater</td>\n",
       "      <td>215 millones de años aprox.</td>\n",
       "      <td>Quebec, Canadá</td>\n",
       "      <td>Este cráter actualmente cobija el lago Manicou...</td>\n",
       "    </tr>\n",
       "    <tr>\n",
       "      <th>5</th>\n",
       "      <td>Morokweng Crater</td>\n",
       "      <td>hace 145 millones de años</td>\n",
       "      <td>Sudáfrica</td>\n",
       "      <td>Localizado cerca del desierto Kalahari, este c...</td>\n",
       "    </tr>\n",
       "    <tr>\n",
       "      <th>6</th>\n",
       "      <td>Cráter Kara</td>\n",
       "      <td>70,3 millones de años</td>\n",
       "      <td>Nenetsia, Rusia</td>\n",
       "      <td>Es uno de los cráteres más deteriorados del mu...</td>\n",
       "    </tr>\n",
       "    <tr>\n",
       "      <th>7</th>\n",
       "      <td>Cráter Chicxulub</td>\n",
       "      <td>65 millones de años aprox.</td>\n",
       "      <td>Yucatán, México</td>\n",
       "      <td>Localizado en la península del Yucatán, muchos...</td>\n",
       "    </tr>\n",
       "    <tr>\n",
       "      <th>8</th>\n",
       "      <td>Cráter Popigai</td>\n",
       "      <td>35,7 millones de años aprox.</td>\n",
       "      <td>Siberia, Rusia</td>\n",
       "      <td>Los científicos rusos consideran que este crát...</td>\n",
       "    </tr>\n",
       "    <tr>\n",
       "      <th>9</th>\n",
       "      <td>Cráter Chesapeake Bay</td>\n",
       "      <td>35 millones de años aprox.</td>\n",
       "      <td>Virginia, EEUU</td>\n",
       "      <td>Descubierto a principios de la década de 1980,...</td>\n",
       "    </tr>\n",
       "  </tbody>\n",
       "</table>\n",
       "</div>"
      ],
      "text/plain": [
       "                   Nombre                      Fecha de Impacto  \\\n",
       "0        Crater Vredefort       dos mil millones de años aprox.   \n",
       "1           Sudbury Basin  1,8 miles de millones de años aprox.   \n",
       "2          Crater Acraman            580 millones de años aprox   \n",
       "3        Crater Woodleigh            364 millones de años aprox   \n",
       "4      Manicouagan Crater           215 millones de años aprox.   \n",
       "5        Morokweng Crater             hace 145 millones de años   \n",
       "6             Cráter Kara                 70,3 millones de años   \n",
       "7        Cráter Chicxulub            65 millones de años aprox.   \n",
       "8          Cráter Popigai          35,7 millones de años aprox.   \n",
       "9   Cráter Chesapeake Bay            35 millones de años aprox.   \n",
       "\n",
       "                   Lugar                                    Caracteristicas  \n",
       "0  Free State, Sudáfrica  Este cráter tiene un radio estimado de 190 kil...  \n",
       "1        Ontario, Canadá  El Sudbury Basin está considerado como uno de ...  \n",
       "2              Australia  Localizado en lo que actualmente es como el la...  \n",
       "3              Australia  Este cráter no está exento de polémica, pues s...  \n",
       "4         Quebec, Canadá  Este cráter actualmente cobija el lago Manicou...  \n",
       "5              Sudáfrica  Localizado cerca del desierto Kalahari, este c...  \n",
       "6        Nenetsia, Rusia  Es uno de los cráteres más deteriorados del mu...  \n",
       "7        Yucatán, México  Localizado en la península del Yucatán, muchos...  \n",
       "8         Siberia, Rusia  Los científicos rusos consideran que este crát...  \n",
       "9         Virginia, EEUU  Descubierto a principios de la década de 1980,...  "
      ]
     },
     "execution_count": 22,
     "metadata": {},
     "output_type": "execute_result"
    }
   ],
   "source": [
    "df"
   ]
  },
  {
   "cell_type": "markdown",
   "metadata": {},
   "source": [
    "### Exportar a csv"
   ]
  },
  {
   "cell_type": "code",
   "execution_count": 23,
   "metadata": {},
   "outputs": [],
   "source": [
    "df.to_csv('DataWeb_Impatos_Relevantes.csv')"
   ]
  },
  {
   "cell_type": "code",
   "execution_count": null,
   "metadata": {},
   "outputs": [],
   "source": []
  }
 ],
 "metadata": {
  "kernelspec": {
   "display_name": "Python 3",
   "language": "python",
   "name": "python3"
  },
  "language_info": {
   "codemirror_mode": {
    "name": "ipython",
    "version": 3
   },
   "file_extension": ".py",
   "mimetype": "text/x-python",
   "name": "python",
   "nbconvert_exporter": "python",
   "pygments_lexer": "ipython3",
   "version": "3.8.6"
  }
 },
 "nbformat": 4,
 "nbformat_minor": 4
}

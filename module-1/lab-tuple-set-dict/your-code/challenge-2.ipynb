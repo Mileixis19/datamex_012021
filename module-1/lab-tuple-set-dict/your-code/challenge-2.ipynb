{
 "cells": [
  {
   "cell_type": "markdown",
   "metadata": {},
   "source": [
    "## Challenge 2: Sets\n",
    "\n",
    "There are a lot to learn about Python Sets and the information presented in the lesson is limited due to its length. To learn Python Sets in depth you are strongly encouraged to review the W3Schools tutorial on [Python Sets Examples and Methods](https://www.w3schools.com/python/python_sets.asp) before you work on this lab. Some difficult questions in this lab have their solutions in the W3Schools tutorial.\n",
    "\n",
    "#### First, import the Python `random` libary"
   ]
  },
  {
   "cell_type": "code",
   "execution_count": null,
   "metadata": {},
   "outputs": [],
   "source": [
    "import random"
   ]
  },
  {
   "cell_type": "markdown",
   "metadata": {},
   "source": [
    "#### In the cell below, create a list named `sample_list_1` with 80 random values. \n",
    "\n",
    "Requirements:\n",
    "\n",
    "* Each value is an integer falling between 0 and 100.\n",
    "* Each value in the list is unique.\n",
    "\n",
    "Print `sample_list_1` to review its values\n",
    "\n",
    "*Hint: use `random.sample` ([reference](https://docs.python.org/3/library/random.html#random.sample)).*"
   ]
  },
  {
   "cell_type": "code",
   "execution_count": 82,
   "metadata": {},
   "outputs": [
    {
     "name": "stdout",
     "output_type": "stream",
     "text": [
      "[95, 93, 76, 66, 25, 87, 38, 18, 24, 53, 72, 39, 47, 59, 89, 28, 52, 14, 41, 97, 98, 70, 50, 99, 82, 43, 16, 56, 22, 45, 54, 35, 19, 96, 32, 13, 3, 44, 65, 21, 62, 20, 75, 63, 51, 23, 15, 1, 92, 9, 2, 61, 30, 57, 33, 36, 17, 77, 48, 85, 37, 12, 34, 79, 4, 90, 94, 74, 86, 91, 42, 81, 69, 64, 0, 31, 26, 8, 60, 11]\n"
     ]
    }
   ],
   "source": [
    "from random import randrange\n",
    "sample_list_1=[]\n",
    "while len(sample_list_1)<80:\n",
    "    aleat=randrange(100)\n",
    "    if aleat not in sample_list_1:\n",
    "        sample_list_1.append(aleat)\n",
    "print(sample_list_1)    "
   ]
  },
  {
   "cell_type": "markdown",
   "metadata": {},
   "source": [
    "#### Convert `sample_list_1` to a set called `set1`. Print the length of the set. Is its length still 80?"
   ]
  },
  {
   "cell_type": "code",
   "execution_count": 183,
   "metadata": {},
   "outputs": [
    {
     "name": "stdout",
     "output_type": "stream",
     "text": [
      "Su longitud es 80\n",
      "{0, 1, 2, 3, 4, 5, 6, 9, 10, 11, 12, 13, 17, 18, 20, 21, 22, 23, 25, 26, 27, 30, 31, 32, 33, 34, 35, 36, 38, 39, 40, 41, 42, 43, 44, 45, 46, 47, 48, 49, 50, 51, 52, 53, 55, 57, 58, 59, 60, 63, 64, 65, 66, 67, 68, 69, 70, 71, 72, 73, 74, 75, 77, 79, 81, 82, 83, 85, 87, 88, 89, 90, 91, 92, 93, 94, 95, 96, 97, 99}\n"
     ]
    }
   ],
   "source": [
    "set1=set(sample_list_1)\n",
    "print('Su longitud es',len(set1))\n",
    "print(set1)"
   ]
  },
  {
   "cell_type": "markdown",
   "metadata": {},
   "source": [
    "#### Create another list named `sample_list_2` with 80 random values.\n",
    "\n",
    "Requirements:\n",
    "\n",
    "* Each value is an integer falling between 0 and 100.\n",
    "* The values in the list don't have to be unique.\n",
    "\n",
    "*Hint: Use a FOR loop.*"
   ]
  },
  {
   "cell_type": "code",
   "execution_count": 95,
   "metadata": {},
   "outputs": [
    {
     "name": "stdout",
     "output_type": "stream",
     "text": [
      "[74, 33, 25, 89, 98, 28, 45, 66, 54, 53, 66, 40, 60, 59, 17, 47, 72, 12, 54, 31, 11, 80, 97, 1, 34, 21, 49, 87, 52, 78, 49, 8, 15, 41, 0, 82, 12, 57, 34, 71, 10, 57, 25, 64, 25, 89, 49, 62, 38, 82, 3, 19, 92, 66, 96, 83, 42, 99, 87, 43, 1, 43, 66, 60, 44, 37, 12, 31, 4, 33, 63, 80, 20, 34, 96, 83, 39, 51, 88, 33]\n"
     ]
    }
   ],
   "source": [
    "from random import randrange\n",
    "sample_list_2=[]\n",
    "for i in range(80):\n",
    "    sample_list_2.append(randrange(100))\n",
    "print(sample_list_2)    "
   ]
  },
  {
   "cell_type": "markdown",
   "metadata": {},
   "source": [
    "#### Convert `sample_list_2` to a set called `set2`. Print the length of the set. Is its length still 80?"
   ]
  },
  {
   "cell_type": "code",
   "execution_count": 98,
   "metadata": {},
   "outputs": [
    {
     "name": "stdout",
     "output_type": "stream",
     "text": [
      "Su longitud es 55\n",
      "{0, 1, 3, 4, 8, 10, 11, 12, 15, 17, 19, 20, 21, 25, 28, 31, 33, 34, 37, 38, 39, 40, 41, 42, 43, 44, 45, 47, 49, 51, 52, 53, 54, 57, 59, 60, 62, 63, 64, 66, 71, 72, 74, 78, 80, 82, 83, 87, 88, 89, 92, 96, 97, 98, 99}\n"
     ]
    }
   ],
   "source": [
    "set2=set(sample_list_2)\n",
    "print('Su longitud es',len(set2))\n",
    "print(set2)"
   ]
  },
  {
   "cell_type": "markdown",
   "metadata": {},
   "source": [
    "#### Identify the elements present in `set1` but not in `set2`. Assign the elements to a new set named `set3`."
   ]
  },
  {
   "cell_type": "code",
   "execution_count": 101,
   "metadata": {},
   "outputs": [
    {
     "name": "stdout",
     "output_type": "stream",
     "text": [
      "{2, 9, 13, 14, 16, 18, 22, 23, 24, 26, 30, 32, 35, 36, 48, 50, 56, 61, 65, 69, 70, 75, 76, 77, 79, 81, 85, 86, 90, 91, 93, 94, 95}\n"
     ]
    }
   ],
   "source": [
    "set3=set1.difference(set2)\n",
    "print(set3)"
   ]
  },
  {
   "cell_type": "markdown",
   "metadata": {},
   "source": [
    "#### Identify the elements present in `set2` but not in `set1`. Assign the elements to a new set named `set4`."
   ]
  },
  {
   "cell_type": "code",
   "execution_count": 102,
   "metadata": {},
   "outputs": [
    {
     "name": "stdout",
     "output_type": "stream",
     "text": [
      "{71, 40, 10, 78, 80, 49, 83, 88}\n"
     ]
    }
   ],
   "source": [
    "set4=set2.difference(set1)\n",
    "print(set4)\n"
   ]
  },
  {
   "cell_type": "markdown",
   "metadata": {},
   "source": [
    "#### Now Identify the elements shared between `set1` and `set2`. Assign the elements to a new set named `set5`."
   ]
  },
  {
   "cell_type": "code",
   "execution_count": 103,
   "metadata": {},
   "outputs": [
    {
     "name": "stdout",
     "output_type": "stream",
     "text": [
      "{0, 1, 3, 4, 8, 11, 12, 15, 17, 19, 20, 21, 25, 28, 31, 33, 34, 37, 38, 39, 41, 42, 43, 44, 45, 47, 51, 52, 53, 54, 57, 59, 60, 62, 63, 64, 66, 72, 74, 82, 87, 89, 92, 96, 97, 98, 99}\n"
     ]
    }
   ],
   "source": [
    "set5=set1.intersection(set2)\n",
    "print(set5)"
   ]
  },
  {
   "cell_type": "markdown",
   "metadata": {},
   "source": [
    "#### What is the relationship among the following values:\n",
    "\n",
    "* len(set1)\n",
    "* len(set2)\n",
    "* len(set3)\n",
    "* len(set4)\n",
    "* len(set5)\n",
    "\n",
    "Use a math formular to represent that relationship. Test your formular with Python code."
   ]
  },
  {
   "cell_type": "code",
   "execution_count": 120,
   "metadata": {},
   "outputs": [
    {
     "name": "stdout",
     "output_type": "stream",
     "text": [
      "El set1 esta tomando un set de numeros aleatorios unicos 80 valores\n",
      "El set2 esta tomando un set de numeros aleatorios  55 valores\n",
      "El set3 esta tomando los valores que estan en set 1 pero no en set2 33 valores\n",
      "El set4 esta tomando los valores que estan en set 2 pero no en set1 8 valores\n",
      "El set5 es la intercepcion del set 1 y el set2 47 valores\n",
      "La suma de los valores que estan en set1 pero no en set2 + la intercepcion de set1 y set2 es igual al numero de valores en set1\n",
      "La suma de los valores que estan en set2 pero no en set1 + la intercepcion de set1 y set2 es igual al numero de valores en set2\n"
     ]
    }
   ],
   "source": [
    "print('El set1 esta tomando un set de numeros aleatorios unicos',len(set1),'valores')\n",
    "print('El set2 esta tomando un set de numeros aleatorios ',len(set2), 'valores')\n",
    "print('El set3 esta tomando los valores que estan en set 1 pero no en set2',len(set3), 'valores')\n",
    "print('El set4 esta tomando los valores que estan en set 2 pero no en set1',len(set4), 'valores')\n",
    "print('El set5 es la intercepcion del set 1 y el set2',len(set5),'valores')\n",
    "\n",
    "if len(set3)+len(set5)==len(set1):\n",
    "    print('La suma de los valores que estan en set1 pero no en set2 + la intercepcion de set'+\n",
    "      '1 y set2 es igual al numero de valores en set1')\n",
    "if len(set4)+len(set5)==len(set2):\n",
    "    print('La suma de los valores que estan en set2 pero no en set1 + la intercepcion de set'+\n",
    "      '1 y set2 es igual al numero de valores en set2')\n",
    "\n"
   ]
  },
  {
   "cell_type": "markdown",
   "metadata": {},
   "source": [
    "#### Create an empty set called `set6`."
   ]
  },
  {
   "cell_type": "code",
   "execution_count": 145,
   "metadata": {},
   "outputs": [],
   "source": [
    "set6=set()"
   ]
  },
  {
   "cell_type": "markdown",
   "metadata": {},
   "source": [
    "#### Add `set3` and `set5` to `set6` using the Python Set `update` method."
   ]
  },
  {
   "cell_type": "code",
   "execution_count": 152,
   "metadata": {},
   "outputs": [
    {
     "name": "stdout",
     "output_type": "stream",
     "text": [
      "{0, 1, 2, 3, 4, 5, 6, 9, 10, 11, 12, 13, 17, 18, 20, 21, 22, 23, 25, 26, 27, 30, 31, 32, 33, 34, 35, 36, 38, 39, 40, 41, 42, 43, 44, 45, 46, 47, 48, 49, 50, 51, 52, 53, 55, 57, 58, 59, 60, 63, 64, 65, 66, 67, 68, 69, 70, 71, 72, 73, 74, 75, 77, 79, 81, 82, 83, 85, 87, 88, 89, 90, 91, 92, 93, 94, 95, 96, 97, 99}\n"
     ]
    }
   ],
   "source": [
    "set6.update(set3,set5)\n",
    "print(set6)"
   ]
  },
  {
   "cell_type": "markdown",
   "metadata": {},
   "source": [
    "#### Check if `set1` and `set6` are equal."
   ]
  },
  {
   "cell_type": "code",
   "execution_count": 153,
   "metadata": {},
   "outputs": [
    {
     "data": {
      "text/plain": [
       "True"
      ]
     },
     "execution_count": 153,
     "metadata": {},
     "output_type": "execute_result"
    }
   ],
   "source": [
    "set1==set6\n"
   ]
  },
  {
   "cell_type": "markdown",
   "metadata": {},
   "source": [
    "#### Check if `set1` contains `set2` using the Python Set `issubset` method. Then check if `set1` contains `set3`.*"
   ]
  },
  {
   "cell_type": "code",
   "execution_count": 163,
   "metadata": {},
   "outputs": [
    {
     "name": "stdout",
     "output_type": "stream",
     "text": [
      "False\n",
      "True\n"
     ]
    }
   ],
   "source": [
    "st=set1.issubset(set2)\n",
    "print(st)\n",
    "st2=set1.issubset(set3)\n",
    "print(st2)\n"
   ]
  },
  {
   "cell_type": "markdown",
   "metadata": {},
   "source": [
    "#### Using the Python Set `union` method, aggregate `set3`, `set4`, and `set5`. Then aggregate `set1` and `set2`. \n",
    "\n",
    "#### Check if the aggregated values are equal."
   ]
  },
  {
   "cell_type": "code",
   "execution_count": 168,
   "metadata": {},
   "outputs": [
    {
     "name": "stdout",
     "output_type": "stream",
     "text": [
      "Los valores son iguales\n"
     ]
    }
   ],
   "source": [
    "setunion1=set3.union(set4,set5)\n",
    "setunion2=set1.union(set2)\n",
    "\n",
    "if setunion1==setunion2:\n",
    "    print('Los valores son iguales')"
   ]
  },
  {
   "cell_type": "markdown",
   "metadata": {},
   "source": [
    "#### Using the `pop` method, remove the first element from `set1`."
   ]
  },
  {
   "cell_type": "code",
   "execution_count": 203,
   "metadata": {},
   "outputs": [
    {
     "data": {
      "text/plain": [
       "6"
      ]
     },
     "execution_count": 203,
     "metadata": {},
     "output_type": "execute_result"
    }
   ],
   "source": [
    "set1.pop()\n"
   ]
  },
  {
   "cell_type": "markdown",
   "metadata": {},
   "source": [
    "#### Remove every element in the following list from `set1` if they are present in the set. Print the remaining elements.\n",
    "\n",
    "```\n",
    "list_to_remove = [1, 9, 11, 19, 21, 29, 31, 39, 41, 49, 51, 59, 61, 69, 71, 79, 81, 89, 91, 99]\n",
    "```"
   ]
  },
  {
   "cell_type": "code",
   "execution_count": 208,
   "metadata": {},
   "outputs": [
    {
     "name": "stdout",
     "output_type": "stream",
     "text": [
      "57\n"
     ]
    }
   ],
   "source": [
    "list_to_remove = [1, 9, 11, 19, 21, 29, 31, 39, 41, 49, 51, 59, 61, 69, 71, 79, 81, 89, 91, 99]\n",
    "\n",
    "set1=set1.difference(list_to_remove)\n",
    "print(len(set1))"
   ]
  }
 ],
 "metadata": {
  "kernelspec": {
   "display_name": "Python 3",
   "language": "python",
   "name": "python3"
  },
  "language_info": {
   "codemirror_mode": {
    "name": "ipython",
    "version": 3
   },
   "file_extension": ".py",
   "mimetype": "text/x-python",
   "name": "python",
   "nbconvert_exporter": "python",
   "pygments_lexer": "ipython3",
   "version": "3.8.6"
  }
 },
 "nbformat": 4,
 "nbformat_minor": 2
}

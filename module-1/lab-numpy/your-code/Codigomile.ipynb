{
 "cells": [
  {
   "cell_type": "code",
   "execution_count": 1,
   "metadata": {},
   "outputs": [],
   "source": [
    "import numpy as np"
   ]
  },
  {
   "cell_type": "code",
   "execution_count": 2,
   "metadata": {},
   "outputs": [
    {
     "data": {
      "text/plain": [
       "'1.19.5'"
      ]
     },
     "execution_count": 2,
     "metadata": {},
     "output_type": "execute_result"
    }
   ],
   "source": [
    "np.__version__"
   ]
  },
  {
   "cell_type": "code",
   "execution_count": 7,
   "metadata": {},
   "outputs": [
    {
     "name": "stdout",
     "output_type": "stream",
     "text": [
      "blas_mkl_info:\n",
      "  NOT AVAILABLE\n",
      "blis_info:\n",
      "  NOT AVAILABLE\n",
      "openblas_info:\n",
      "    library_dirs = ['D:\\\\a\\\\1\\\\s\\\\numpy\\\\build\\\\openblas_info']\n",
      "    libraries = ['openblas_info']\n",
      "    language = f77\n",
      "    define_macros = [('HAVE_CBLAS', None)]\n",
      "blas_opt_info:\n",
      "    library_dirs = ['D:\\\\a\\\\1\\\\s\\\\numpy\\\\build\\\\openblas_info']\n",
      "    libraries = ['openblas_info']\n",
      "    language = f77\n",
      "    define_macros = [('HAVE_CBLAS', None)]\n",
      "lapack_mkl_info:\n",
      "  NOT AVAILABLE\n",
      "openblas_lapack_info:\n",
      "    library_dirs = ['D:\\\\a\\\\1\\\\s\\\\numpy\\\\build\\\\openblas_lapack_info']\n",
      "    libraries = ['openblas_lapack_info']\n",
      "    language = f77\n",
      "    define_macros = [('HAVE_CBLAS', None)]\n",
      "lapack_opt_info:\n",
      "    library_dirs = ['D:\\\\a\\\\1\\\\s\\\\numpy\\\\build\\\\openblas_lapack_info']\n",
      "    libraries = ['openblas_lapack_info']\n",
      "    language = f77\n",
      "    define_macros = [('HAVE_CBLAS', None)]\n"
     ]
    }
   ],
   "source": [
    "np.show_config()"
   ]
  },
  {
   "cell_type": "code",
   "execution_count": 11,
   "metadata": {},
   "outputs": [],
   "source": [
    "a = np.random.random((2,3,5))\n",
    "\n",
    "#Utilice este, pero dice de cuantas formas puedes encontrar, creo que se refiere a si lo hago con\n",
    "#randint(distribucion discreto) o randn(distribucion normal)"
   ]
  },
  {
   "cell_type": "code",
   "execution_count": 12,
   "metadata": {},
   "outputs": [
    {
     "name": "stdout",
     "output_type": "stream",
     "text": [
      "[[[0.99519513 0.52250543 0.08876708 0.94938661 0.73309374]\n",
      "  [0.70540387 0.35758577 0.99593264 0.71588523 0.01837235]\n",
      "  [0.33788697 0.97470554 0.91912451 0.81412007 0.85757566]]\n",
      "\n",
      " [[0.12903321 0.94487524 0.12281046 0.5733617  0.98500577]\n",
      "  [0.7969992  0.57611746 0.23915119 0.79164091 0.99934383]\n",
      "  [0.82427899 0.86767197 0.73096261 0.2304811  0.11583832]]]\n"
     ]
    }
   ],
   "source": [
    "print(a)"
   ]
  },
  {
   "cell_type": "code",
   "execution_count": 16,
   "metadata": {},
   "outputs": [],
   "source": [
    "b= np.full((5,2,3),1)"
   ]
  },
  {
   "cell_type": "code",
   "execution_count": 18,
   "metadata": {},
   "outputs": [
    {
     "name": "stdout",
     "output_type": "stream",
     "text": [
      "[[[1 1 1]\n",
      "  [1 1 1]]\n",
      "\n",
      " [[1 1 1]\n",
      "  [1 1 1]]\n",
      "\n",
      " [[1 1 1]\n",
      "  [1 1 1]]\n",
      "\n",
      " [[1 1 1]\n",
      "  [1 1 1]]\n",
      "\n",
      " [[1 1 1]\n",
      "  [1 1 1]]]\n"
     ]
    }
   ],
   "source": [
    "print(b)"
   ]
  },
  {
   "cell_type": "code",
   "execution_count": 26,
   "metadata": {},
   "outputs": [
    {
     "data": {
      "text/plain": [
       "False"
      ]
     },
     "execution_count": 26,
     "metadata": {},
     "output_type": "execute_result"
    }
   ],
   "source": [
    "#a y b no son del mismo tamaño.\n",
    "a.shape==b.shape\n"
   ]
  },
  {
   "cell_type": "code",
   "execution_count": 28,
   "metadata": {},
   "outputs": [],
   "source": [
    "#No se pueden agregar a y b ya que no tienen el mismo shape o tamaño."
   ]
  },
  {
   "cell_type": "code",
   "execution_count": 34,
   "metadata": {},
   "outputs": [
    {
     "data": {
      "text/plain": [
       "(2, 3, 5)"
      ]
     },
     "execution_count": 34,
     "metadata": {},
     "output_type": "execute_result"
    }
   ],
   "source": [
    "c = b.reshape(a.shape)\n",
    "c.shape"
   ]
  },
  {
   "cell_type": "code",
   "execution_count": 36,
   "metadata": {
    "scrolled": true
   },
   "outputs": [
    {
     "data": {
      "text/plain": [
       "array([[[1.99519513, 1.52250543, 1.08876708, 1.94938661, 1.73309374],\n",
       "        [1.70540387, 1.35758577, 1.99593264, 1.71588523, 1.01837235],\n",
       "        [1.33788697, 1.97470554, 1.91912451, 1.81412007, 1.85757566]],\n",
       "\n",
       "       [[1.12903321, 1.94487524, 1.12281046, 1.5733617 , 1.98500577],\n",
       "        [1.7969992 , 1.57611746, 1.23915119, 1.79164091, 1.99934383],\n",
       "        [1.82427899, 1.86767197, 1.73096261, 1.2304811 , 1.11583832]]])"
      ]
     },
     "execution_count": 36,
     "metadata": {},
     "output_type": "execute_result"
    }
   ],
   "source": [
    "d=a+c\n",
    "print(d)\n",
    "#Ahora si se pueden sumar ya que tienen el mismo tamaño o shape."
   ]
  },
  {
   "cell_type": "code",
   "execution_count": 39,
   "metadata": {
    "scrolled": true
   },
   "outputs": [
    {
     "name": "stdout",
     "output_type": "stream",
     "text": [
      "[[[0.99519513 0.52250543 0.08876708 0.94938661 0.73309374]\n",
      "  [0.70540387 0.35758577 0.99593264 0.71588523 0.01837235]\n",
      "  [0.33788697 0.97470554 0.91912451 0.81412007 0.85757566]]\n",
      "\n",
      " [[0.12903321 0.94487524 0.12281046 0.5733617  0.98500577]\n",
      "  [0.7969992  0.57611746 0.23915119 0.79164091 0.99934383]\n",
      "  [0.82427899 0.86767197 0.73096261 0.2304811  0.11583832]]] \n",
      "\n",
      " [[[1.99519513 1.52250543 1.08876708 1.94938661 1.73309374]\n",
      "  [1.70540387 1.35758577 1.99593264 1.71588523 1.01837235]\n",
      "  [1.33788697 1.97470554 1.91912451 1.81412007 1.85757566]]\n",
      "\n",
      " [[1.12903321 1.94487524 1.12281046 1.5733617  1.98500577]\n",
      "  [1.7969992  1.57611746 1.23915119 1.79164091 1.99934383]\n",
      "  [1.82427899 1.86767197 1.73096261 1.2304811  1.11583832]]]\n"
     ]
    }
   ],
   "source": [
    "print(a,'\\n\\n',d)\n",
    "#ya que en d se sumaron a y c se tiene los mismos decimales mas 1 entero."
   ]
  },
  {
   "cell_type": "code",
   "execution_count": 41,
   "metadata": {
    "scrolled": true
   },
   "outputs": [
    {
     "data": {
      "text/plain": [
       "array([[[0.99519513, 0.52250543, 0.08876708, 0.94938661, 0.73309374],\n",
       "        [0.70540387, 0.35758577, 0.99593264, 0.71588523, 0.01837235],\n",
       "        [0.33788697, 0.97470554, 0.91912451, 0.81412007, 0.85757566]],\n",
       "\n",
       "       [[0.12903321, 0.94487524, 0.12281046, 0.5733617 , 0.98500577],\n",
       "        [0.7969992 , 0.57611746, 0.23915119, 0.79164091, 0.99934383],\n",
       "        [0.82427899, 0.86767197, 0.73096261, 0.2304811 , 0.11583832]]])"
      ]
     },
     "execution_count": 41,
     "metadata": {},
     "output_type": "execute_result"
    }
   ],
   "source": [
    "e=a*c\n",
    "print(e)"
   ]
  },
  {
   "cell_type": "code",
   "execution_count": 42,
   "metadata": {},
   "outputs": [],
   "source": [
    "#Si son iguales a y e ya que todo numero multiplicado por uno es el mismo numero."
   ]
  },
  {
   "cell_type": "code",
   "execution_count": 92,
   "metadata": {},
   "outputs": [],
   "source": [
    "d_max=d.max()\n",
    "d_min=d.min()\n",
    "d_mean=d.mean()\n"
   ]
  },
  {
   "cell_type": "code",
   "execution_count": 84,
   "metadata": {},
   "outputs": [
    {
     "data": {
      "text/plain": [
       "array([[[1.99519513, 1.52250543, 1.08876708, 1.94938661, 1.73309374],\n",
       "        [1.70540387, 1.35758577, 1.99593264, 1.71588523, 1.01837235],\n",
       "        [1.33788697, 1.97470554, 1.91912451, 1.81412007, 1.85757566]],\n",
       "\n",
       "       [[1.12903321, 1.94487524, 1.12281046, 1.5733617 , 1.98500577],\n",
       "        [1.7969992 , 1.57611746, 1.23915119, 1.79164091, 1.99934383],\n",
       "        [1.82427899, 1.86767197, 1.73096261, 1.2304811 , 1.11583832]]])"
      ]
     },
     "execution_count": 84,
     "metadata": {},
     "output_type": "execute_result"
    }
   ],
   "source": [
    "f=np.empty((2,3,5),dtype=int)"
   ]
  },
  {
   "cell_type": "code",
   "execution_count": 87,
   "metadata": {
    "scrolled": true
   },
   "outputs": [
    {
     "name": "stdout",
     "output_type": "stream",
     "text": [
      "[[[1.99519513 1.52250543 1.08876708 1.94938661 1.73309374]\n",
      "  [1.70540387 1.35758577 1.99593264 1.71588523 1.01837235]\n",
      "  [1.33788697 1.97470554 1.91912451 1.81412007 1.85757566]]\n",
      "\n",
      " [[1.12903321 1.94487524 1.12281046 1.5733617  1.98500577]\n",
      "  [1.7969992  1.57611746 1.23915119 1.79164091 1.99934383]\n",
      "  [1.82427899 1.86767197 1.73096261 1.2304811  1.11583832]]]\n",
      "[[[ 75  25  25  75  75]\n",
      "  [ 75  25  75  75   0]\n",
      "  [ 25  75  75  75  75]]\n",
      "\n",
      " [[ 25  75  25  25  75]\n",
      "  [ 75  25  25  75 100]\n",
      "  [ 75  75  75  25  25]]]\n"
     ]
    }
   ],
   "source": [
    "pri=0\n",
    "seg=0\n",
    "ter=0\n",
    "for i in d:\n",
    "    for v in i:\n",
    "        for dat in v:\n",
    "            if (dat > d_min) and (dat < d_mean):\n",
    "                f[pri,seg,ter]=25\n",
    "            elif (dat > d_mean) and (dat < d_max):\n",
    "                f[pri,seg,ter]=75\n",
    "            elif (dat == d_mean):\n",
    "                f[pri,seg,ter]=50\n",
    "            elif (dat == d_min) :\n",
    "                f[pri,seg,ter]=0\n",
    "            elif (dat == d_max):\n",
    "                f[pri,seg,ter]=100\n",
    "            \n",
    "            ter+=1\n",
    "        ter=0\n",
    "        seg+=1\n",
    "    seg=0\n",
    "    pri+=1\n",
    "print(d)\n",
    "print(f)"
   ]
  },
  {
   "cell_type": "code",
   "execution_count": 91,
   "metadata": {},
   "outputs": [
    {
     "name": "stdout",
     "output_type": "stream",
     "text": [
      "[[['D' 'B' 'B' 'D' 'D']\n",
      "  ['D' 'B' 'D' 'D' 'A']\n",
      "  ['B' 'D' 'D' 'D' 'D']]\n",
      "\n",
      " [['B' 'D' 'B' 'B' 'D']\n",
      "  ['D' 'B' 'B' 'D' 'E']\n",
      "  ['D' 'D' 'D' 'B' 'B']]]\n"
     ]
    }
   ],
   "source": [
    "f2=np.empty((2,3,5),dtype=str)\n",
    "pri=0\n",
    "seg=0\n",
    "ter=0\n",
    "for i in d:\n",
    "    for v in i:\n",
    "        for dat in v:\n",
    "            if (dat > d_min) and (dat < d_mean):\n",
    "                f2[pri,seg,ter]='B'\n",
    "            elif (dat > d_mean) and (dat < d_max):\n",
    "                f2[pri,seg,ter]='D'\n",
    "            elif (dat == d_mean):\n",
    "                f2[pri,seg,ter]='C'\n",
    "            elif (dat == d_min) :\n",
    "                f2[pri,seg,ter]='A'\n",
    "            elif (dat == d_max):\n",
    "                f2[pri,seg,ter]='E'\n",
    "            \n",
    "            ter+=1\n",
    "        ter=0\n",
    "        seg+=1\n",
    "    seg=0\n",
    "    pri+=1\n",
    "print(f2)\n"
   ]
  },
  {
   "cell_type": "code",
   "execution_count": null,
   "metadata": {},
   "outputs": [],
   "source": []
  }
 ],
 "metadata": {
  "kernelspec": {
   "display_name": "Python 3",
   "language": "python",
   "name": "python3"
  },
  "language_info": {
   "codemirror_mode": {
    "name": "ipython",
    "version": 3
   },
   "file_extension": ".py",
   "mimetype": "text/x-python",
   "name": "python",
   "nbconvert_exporter": "python",
   "pygments_lexer": "ipython3",
   "version": "3.8.6"
  }
 },
 "nbformat": 4,
 "nbformat_minor": 4
}
